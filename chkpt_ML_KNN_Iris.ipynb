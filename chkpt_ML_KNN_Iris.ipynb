{
 "cells": [
  {
   "cell_type": "markdown",
   "id": "469f22c5",
   "metadata": {},
   "source": [
    "# 1. Gérer les données\n",
    "\n"
   ]
  },
  {
   "cell_type": "code",
   "execution_count": 1,
   "id": "da5ab387",
   "metadata": {},
   "outputs": [],
   "source": [
    "# charger notre fichier de données\n",
    "\n",
    "\n",
    "import pandas as pd\n",
    "import csv\n",
    "import random"
   ]
  },
  {
   "cell_type": "code",
   "execution_count": 2,
   "id": "17180f39",
   "metadata": {
    "scrolled": true
   },
   "outputs": [
    {
     "name": "stdout",
     "output_type": "stream",
     "text": [
      "5.1,3.5,1.4,0.2,Iris-setosa\n",
      "4.9,3.0,1.4,0.2,Iris-setosa\n",
      "4.7,3.2,1.3,0.2,Iris-setosa\n",
      "4.6,3.1,1.5,0.2,Iris-setosa\n",
      "5.0,3.6,1.4,0.2,Iris-setosa\n",
      "5.4,3.9,1.7,0.4,Iris-setosa\n",
      "4.6,3.4,1.4,0.3,Iris-setosa\n",
      "5.0,3.4,1.5,0.2,Iris-setosa\n",
      "4.4,2.9,1.4,0.2,Iris-setosa\n",
      "4.9,3.1,1.5,0.1,Iris-setosa\n",
      "5.4,3.7,1.5,0.2,Iris-setosa\n",
      "4.8,3.4,1.6,0.2,Iris-setosa\n",
      "4.8,3.0,1.4,0.1,Iris-setosa\n",
      "4.3,3.0,1.1,0.1,Iris-setosa\n",
      "5.8,4.0,1.2,0.2,Iris-setosa\n",
      "5.7,4.4,1.5,0.4,Iris-setosa\n",
      "5.4,3.9,1.3,0.4,Iris-setosa\n",
      "5.1,3.5,1.4,0.3,Iris-setosa\n",
      "5.7,3.8,1.7,0.3,Iris-setosa\n",
      "5.1,3.8,1.5,0.3,Iris-setosa\n",
      "5.4,3.4,1.7,0.2,Iris-setosa\n",
      "5.1,3.7,1.5,0.4,Iris-setosa\n",
      "4.6,3.6,1.0,0.2,Iris-setosa\n",
      "5.1,3.3,1.7,0.5,Iris-setosa\n",
      "4.8,3.4,1.9,0.2,Iris-setosa\n",
      "5.0,3.0,1.6,0.2,Iris-setosa\n",
      "5.0,3.4,1.6,0.4,Iris-setosa\n",
      "5.2,3.5,1.5,0.2,Iris-setosa\n",
      "5.2,3.4,1.4,0.2,Iris-setosa\n",
      "4.7,3.2,1.6,0.2,Iris-setosa\n",
      "4.8,3.1,1.6,0.2,Iris-setosa\n",
      "5.4,3.4,1.5,0.4,Iris-setosa\n",
      "5.2,4.1,1.5,0.1,Iris-setosa\n",
      "5.5,4.2,1.4,0.2,Iris-setosa\n",
      "4.9,3.1,1.5,0.1,Iris-setosa\n",
      "5.0,3.2,1.2,0.2,Iris-setosa\n",
      "5.5,3.5,1.3,0.2,Iris-setosa\n",
      "4.9,3.1,1.5,0.1,Iris-setosa\n",
      "4.4,3.0,1.3,0.2,Iris-setosa\n",
      "5.1,3.4,1.5,0.2,Iris-setosa\n",
      "5.0,3.5,1.3,0.3,Iris-setosa\n",
      "4.5,2.3,1.3,0.3,Iris-setosa\n",
      "4.4,3.2,1.3,0.2,Iris-setosa\n",
      "5.0,3.5,1.6,0.6,Iris-setosa\n",
      "5.1,3.8,1.9,0.4,Iris-setosa\n",
      "4.8,3.0,1.4,0.3,Iris-setosa\n",
      "5.1,3.8,1.6,0.2,Iris-setosa\n",
      "4.6,3.2,1.4,0.2,Iris-setosa\n",
      "5.3,3.7,1.5,0.2,Iris-setosa\n",
      "5.0,3.3,1.4,0.2,Iris-setosa\n",
      "7.0,3.2,4.7,1.4,Iris-versicolor\n",
      "6.4,3.2,4.5,1.5,Iris-versicolor\n",
      "6.9,3.1,4.9,1.5,Iris-versicolor\n",
      "5.5,2.3,4.0,1.3,Iris-versicolor\n",
      "6.5,2.8,4.6,1.5,Iris-versicolor\n",
      "5.7,2.8,4.5,1.3,Iris-versicolor\n",
      "6.3,3.3,4.7,1.6,Iris-versicolor\n",
      "4.9,2.4,3.3,1.0,Iris-versicolor\n",
      "6.6,2.9,4.6,1.3,Iris-versicolor\n",
      "5.2,2.7,3.9,1.4,Iris-versicolor\n",
      "5.0,2.0,3.5,1.0,Iris-versicolor\n",
      "5.9,3.0,4.2,1.5,Iris-versicolor\n",
      "6.0,2.2,4.0,1.0,Iris-versicolor\n",
      "6.1,2.9,4.7,1.4,Iris-versicolor\n",
      "5.6,2.9,3.6,1.3,Iris-versicolor\n",
      "6.7,3.1,4.4,1.4,Iris-versicolor\n",
      "5.6,3.0,4.5,1.5,Iris-versicolor\n",
      "5.8,2.7,4.1,1.0,Iris-versicolor\n",
      "6.2,2.2,4.5,1.5,Iris-versicolor\n",
      "5.6,2.5,3.9,1.1,Iris-versicolor\n",
      "5.9,3.2,4.8,1.8,Iris-versicolor\n",
      "6.1,2.8,4.0,1.3,Iris-versicolor\n",
      "6.3,2.5,4.9,1.5,Iris-versicolor\n",
      "6.1,2.8,4.7,1.2,Iris-versicolor\n",
      "6.4,2.9,4.3,1.3,Iris-versicolor\n",
      "6.6,3.0,4.4,1.4,Iris-versicolor\n",
      "6.8,2.8,4.8,1.4,Iris-versicolor\n",
      "6.7,3.0,5.0,1.7,Iris-versicolor\n",
      "6.0,2.9,4.5,1.5,Iris-versicolor\n",
      "5.7,2.6,3.5,1.0,Iris-versicolor\n",
      "5.5,2.4,3.8,1.1,Iris-versicolor\n",
      "5.5,2.4,3.7,1.0,Iris-versicolor\n",
      "5.8,2.7,3.9,1.2,Iris-versicolor\n",
      "6.0,2.7,5.1,1.6,Iris-versicolor\n",
      "5.4,3.0,4.5,1.5,Iris-versicolor\n",
      "6.0,3.4,4.5,1.6,Iris-versicolor\n",
      "6.7,3.1,4.7,1.5,Iris-versicolor\n",
      "6.3,2.3,4.4,1.3,Iris-versicolor\n",
      "5.6,3.0,4.1,1.3,Iris-versicolor\n",
      "5.5,2.5,4.0,1.3,Iris-versicolor\n",
      "5.5,2.6,4.4,1.2,Iris-versicolor\n",
      "6.1,3.0,4.6,1.4,Iris-versicolor\n",
      "5.8,2.6,4.0,1.2,Iris-versicolor\n",
      "5.0,2.3,3.3,1.0,Iris-versicolor\n",
      "5.6,2.7,4.2,1.3,Iris-versicolor\n",
      "5.7,3.0,4.2,1.2,Iris-versicolor\n",
      "5.7,2.9,4.2,1.3,Iris-versicolor\n",
      "6.2,2.9,4.3,1.3,Iris-versicolor\n",
      "5.1,2.5,3.0,1.1,Iris-versicolor\n",
      "5.7,2.8,4.1,1.3,Iris-versicolor\n",
      "6.3,3.3,6.0,2.5,Iris-virginica\n",
      "5.8,2.7,5.1,1.9,Iris-virginica\n",
      "7.1,3.0,5.9,2.1,Iris-virginica\n",
      "6.3,2.9,5.6,1.8,Iris-virginica\n",
      "6.5,3.0,5.8,2.2,Iris-virginica\n",
      "7.6,3.0,6.6,2.1,Iris-virginica\n",
      "4.9,2.5,4.5,1.7,Iris-virginica\n",
      "7.3,2.9,6.3,1.8,Iris-virginica\n",
      "6.7,2.5,5.8,1.8,Iris-virginica\n",
      "7.2,3.6,6.1,2.5,Iris-virginica\n",
      "6.5,3.2,5.1,2.0,Iris-virginica\n",
      "6.4,2.7,5.3,1.9,Iris-virginica\n",
      "6.8,3.0,5.5,2.1,Iris-virginica\n",
      "5.7,2.5,5.0,2.0,Iris-virginica\n",
      "5.8,2.8,5.1,2.4,Iris-virginica\n",
      "6.4,3.2,5.3,2.3,Iris-virginica\n",
      "6.5,3.0,5.5,1.8,Iris-virginica\n",
      "7.7,3.8,6.7,2.2,Iris-virginica\n",
      "7.7,2.6,6.9,2.3,Iris-virginica\n",
      "6.0,2.2,5.0,1.5,Iris-virginica\n",
      "6.9,3.2,5.7,2.3,Iris-virginica\n",
      "5.6,2.8,4.9,2.0,Iris-virginica\n",
      "7.7,2.8,6.7,2.0,Iris-virginica\n",
      "6.3,2.7,4.9,1.8,Iris-virginica\n",
      "6.7,3.3,5.7,2.1,Iris-virginica\n",
      "7.2,3.2,6.0,1.8,Iris-virginica\n",
      "6.2,2.8,4.8,1.8,Iris-virginica\n",
      "6.1,3.0,4.9,1.8,Iris-virginica\n",
      "6.4,2.8,5.6,2.1,Iris-virginica\n",
      "7.2,3.0,5.8,1.6,Iris-virginica\n",
      "7.4,2.8,6.1,1.9,Iris-virginica\n",
      "7.9,3.8,6.4,2.0,Iris-virginica\n",
      "6.4,2.8,5.6,2.2,Iris-virginica\n",
      "6.3,2.8,5.1,1.5,Iris-virginica\n",
      "6.1,2.6,5.6,1.4,Iris-virginica\n",
      "7.7,3.0,6.1,2.3,Iris-virginica\n",
      "6.3,3.4,5.6,2.4,Iris-virginica\n",
      "6.4,3.1,5.5,1.8,Iris-virginica\n",
      "6.0,3.0,4.8,1.8,Iris-virginica\n",
      "6.9,3.1,5.4,2.1,Iris-virginica\n",
      "6.7,3.1,5.6,2.4,Iris-virginica\n",
      "6.9,3.1,5.1,2.3,Iris-virginica\n",
      "5.8,2.7,5.1,1.9,Iris-virginica\n",
      "6.8,3.2,5.9,2.3,Iris-virginica\n",
      "6.7,3.3,5.7,2.5,Iris-virginica\n",
      "6.7,3.0,5.2,2.3,Iris-virginica\n",
      "6.3,2.5,5.0,1.9,Iris-virginica\n",
      "6.5,3.0,5.2,2.0,Iris-virginica\n",
      "6.2,3.4,5.4,2.3,Iris-virginica\n",
      "5.9,3.0,5.1,1.8,Iris-virginica\n"
     ]
    }
   ],
   "source": [
    "with open('iris.data.txt', 'rt') as csvfile:\n",
    "    lines = csv.reader(csvfile)\n",
    "    for row in lines :\n",
    "        print (','.join(row))\n",
    "\n"
   ]
  },
  {
   "cell_type": "code",
   "execution_count": 3,
   "id": "b8b057ac",
   "metadata": {},
   "outputs": [],
   "source": [
    "# diviser les données en un ensemble de données d'entraînement\n",
    "\n",
    "\n",
    "def loadDataset(filename, split, trainingSet=[] , testSet=[]):\n",
    "    with open(filename, 'rt') as csvfile:\n",
    "        lines = csv.reader(csvfile)\n",
    "        dataset = list(lines)\n",
    "        for x in range(len(dataset)-1):\n",
    "            for y in range(4):\n",
    "                dataset[x][y] = float(dataset[x][y])\n",
    "            if random.random() < split:\n",
    "                trainingSet.append(dataset[x])\n",
    "            else:\n",
    "                testSet.append(dataset[x])\n"
   ]
  },
  {
   "cell_type": "code",
   "execution_count": 4,
   "id": "9de18ce6",
   "metadata": {},
   "outputs": [],
   "source": [
    "# tester cette fonction avec notre ensemble de données\n",
    "\n",
    "\n",
    "def loadDataset(filename, split, trainingSet=[] , testSet=[]):\n",
    "    with open(filename, 'rt') as csvfile:\n",
    "        lines = csv.reader(csvfile)\n",
    "        dataset = list(lines)\n",
    "        for x in range(len(dataset)-1):\n",
    "            for y in range(4):\n",
    "                dataset[x][y] = float(dataset[x][y])\n",
    "            if random.random() < split:\n",
    "                trainingSet.append(dataset[x])\n",
    "            else:\n",
    "                testSet.append(dataset[x])\n"
   ]
  },
  {
   "cell_type": "markdown",
   "id": "1bae3541",
   "metadata": {},
   "source": [
    "\n",
    "# 2. Similitude\n"
   ]
  },
  {
   "cell_type": "code",
   "execution_count": 5,
   "id": "71c22561",
   "metadata": {},
   "outputs": [
    {
     "name": "stdout",
     "output_type": "stream",
     "text": [
      "Distance: 3.4641016151377544\n"
     ]
    }
   ],
   "source": [
    "import math\n",
    "def euclideanDistance(instance1, instance2, length):\n",
    "    distance = 0\n",
    "    for x in range(length):\n",
    "        distance += pow((instance1[x] - instance2[x]), 2)\n",
    "    return math.sqrt(distance)\n",
    "\n",
    "\n",
    "\n",
    "# tester cette fonction avec quelques exemples de données\n",
    "\n",
    "data1 = [2, 2, 2, 'a']\n",
    "\n",
    "data2 = [4, 4, 4, 'b']\n",
    "\n",
    "distance = euclideanDistance(data1, data2, 3)\n",
    "\n",
    "print ('Distance: ' + repr(distance))\n",
    "\n"
   ]
  },
  {
   "cell_type": "markdown",
   "id": "7ff576d0",
   "metadata": {},
   "source": [
    "\n",
    "# 3. Voisins\n"
   ]
  },
  {
   "cell_type": "code",
   "execution_count": 6,
   "id": "713c8b95",
   "metadata": {},
   "outputs": [],
   "source": [
    "\n",
    "\n",
    "\n",
    "import operator\n",
    "\n",
    "def getNeighbors(trainingSet, testInstance, k):\n",
    "    distances = []\n",
    "    length = len(testInstance)-1\n",
    "    for x in range(len(trainingSet)):\n",
    "        dist = euclideanDistance(testInstance, trainingSet[x], length)\n",
    "        distances.append((trainingSet[x], dist))\n",
    "    distances.sort(key=operator.itemgetter(1))\n",
    "\n",
    "    neighbors = []\n",
    "\n",
    "    for x in range(k):\n",
    "        neighbors.append(distances[x][0])\n",
    "\n",
    "    return neighbors\n",
    "\n"
   ]
  },
  {
   "cell_type": "code",
   "execution_count": 7,
   "id": "e6f86cae",
   "metadata": {},
   "outputs": [
    {
     "name": "stdout",
     "output_type": "stream",
     "text": [
      "[[4, 4, 4, 'b']]\n"
     ]
    }
   ],
   "source": [
    "# tester cette fonction\n",
    "\n",
    "trainSet = [[2, 2, 2, 'a'], [4, 4, 4, 'b']]\n",
    "\n",
    "testInstance = [5, 5, 5]\n",
    "\n",
    "k = 1\n",
    "\n",
    "neighbors = getNeighbors(trainSet, testInstance, 1)\n",
    "\n",
    "print(neighbors)"
   ]
  },
  {
   "cell_type": "markdown",
   "id": "259e2fcb",
   "metadata": {},
   "source": [
    "\n",
    "\n",
    "# 4. Réponse"
   ]
  },
  {
   "cell_type": "code",
   "execution_count": 8,
   "id": "a6b3d081",
   "metadata": {},
   "outputs": [],
   "source": [
    "# obtenir la réponse votée à la majorité d'un certain nombre de voisins\n",
    "\n",
    "\n",
    "import operator\n",
    "def getResponse(neighbors):\n",
    "    classVotes = {}\n",
    "    for x in range(len(neighbors)):\n",
    "        response = neighbors[x][-1]\n",
    "        if response in classVotes:\n",
    "            classVotes[response] += 1\n",
    "        else:\n",
    "            classVotes[response] = 1\n",
    "    sortedVotes = sorted(classVotes.items(), key=operator.itemgetter(1), reverse=True)\n",
    "    return sortedVotes[0][0]"
   ]
  },
  {
   "cell_type": "code",
   "execution_count": 9,
   "id": "afcdfde9",
   "metadata": {},
   "outputs": [
    {
     "name": "stdout",
     "output_type": "stream",
     "text": [
      "a\n"
     ]
    }
   ],
   "source": [
    "# tester cette fonction avec quelques voisins de test\n",
    "\n",
    "neighbors = [[1,1,1,'a'], [2,2,2,'a'], [3,3,3,'b']]\n",
    "print(getResponse(neighbors))"
   ]
  },
  {
   "cell_type": "markdown",
   "id": "31a672aa",
   "metadata": {},
   "source": [
    "\n",
    "# 5. Précision\n",
    "\n"
   ]
  },
  {
   "cell_type": "code",
   "execution_count": 10,
   "id": "fd53d16c",
   "metadata": {},
   "outputs": [],
   "source": [
    "# précision en pourcentage des classifications correctes\n",
    "\n",
    "def getAccuracy(testSet, predictions):\n",
    "    correct = 0\n",
    "    for x in range(len(testSet)):\n",
    "        if testSet[x][-1] is predictions[x]:\n",
    "            correct += 1\n",
    "    return (correct/float(len(testSet))) * 100.0"
   ]
  },
  {
   "cell_type": "code",
   "execution_count": 11,
   "id": "00d93d06",
   "metadata": {},
   "outputs": [
    {
     "name": "stdout",
     "output_type": "stream",
     "text": [
      "66.66666666666666\n"
     ]
    }
   ],
   "source": [
    "# tester cette fonction\n",
    "\n",
    "testSet = [[1,1,1,'a'], [2,2,2,'a'], [3,3,3,'b']]\n",
    "predictions = ['a', 'a', 'a']\n",
    "accuracy = getAccuracy(testSet, predictions)\n",
    "print(accuracy)"
   ]
  },
  {
   "cell_type": "markdown",
   "id": "ec1c5557",
   "metadata": {},
   "source": [
    "\n",
    "\n",
    "# 6. Main"
   ]
  },
  {
   "cell_type": "code",
   "execution_count": 15,
   "id": "0b0596cf",
   "metadata": {},
   "outputs": [
    {
     "name": "stdout",
     "output_type": "stream",
     "text": [
      "Train set: 99\n",
      "Test set: 50\n",
      "> predicted='Iris-setosa', actual=[5.1, 3.5, 1.4, 0.2, 'Iris-setosa']\n",
      "> predicted='Iris-setosa', actual=[4.9, 3.0, 1.4, 0.2, 'Iris-setosa']\n",
      "> predicted='Iris-setosa', actual=[5.4, 3.9, 1.7, 0.4, 'Iris-setosa']\n",
      "> predicted='Iris-setosa', actual=[4.4, 2.9, 1.4, 0.2, 'Iris-setosa']\n",
      "> predicted='Iris-setosa', actual=[5.4, 3.7, 1.5, 0.2, 'Iris-setosa']\n",
      "> predicted='Iris-setosa', actual=[4.8, 3.4, 1.6, 0.2, 'Iris-setosa']\n",
      "> predicted='Iris-setosa', actual=[4.3, 3.0, 1.1, 0.1, 'Iris-setosa']\n",
      "> predicted='Iris-setosa', actual=[5.8, 4.0, 1.2, 0.2, 'Iris-setosa']\n",
      "> predicted='Iris-setosa', actual=[5.4, 3.9, 1.3, 0.4, 'Iris-setosa']\n",
      "> predicted='Iris-setosa', actual=[5.7, 3.8, 1.7, 0.3, 'Iris-setosa']\n",
      "> predicted='Iris-setosa', actual=[5.4, 3.4, 1.7, 0.2, 'Iris-setosa']\n",
      "> predicted='Iris-setosa', actual=[5.0, 3.0, 1.6, 0.2, 'Iris-setosa']\n",
      "> predicted='Iris-setosa', actual=[5.2, 3.4, 1.4, 0.2, 'Iris-setosa']\n",
      "> predicted='Iris-setosa', actual=[4.8, 3.1, 1.6, 0.2, 'Iris-setosa']\n",
      "> predicted='Iris-setosa', actual=[5.0, 3.2, 1.2, 0.2, 'Iris-setosa']\n",
      "> predicted='Iris-setosa', actual=[5.5, 3.5, 1.3, 0.2, 'Iris-setosa']\n",
      "> predicted='Iris-setosa', actual=[4.4, 3.0, 1.3, 0.2, 'Iris-setosa']\n",
      "> predicted='Iris-setosa', actual=[5.1, 3.8, 1.6, 0.2, 'Iris-setosa']\n",
      "> predicted='Iris-setosa', actual=[4.6, 3.2, 1.4, 0.2, 'Iris-setosa']\n",
      "> predicted='Iris-setosa', actual=[5.0, 3.3, 1.4, 0.2, 'Iris-setosa']\n",
      "> predicted='Iris-versicolor', actual=[6.5, 2.8, 4.6, 1.5, 'Iris-versicolor']\n",
      "> predicted='Iris-versicolor', actual=[5.7, 2.8, 4.5, 1.3, 'Iris-versicolor']\n",
      "> predicted='Iris-versicolor', actual=[5.6, 2.9, 3.6, 1.3, 'Iris-versicolor']\n",
      "> predicted='Iris-virginica', actual=[5.9, 3.2, 4.8, 1.8, 'Iris-versicolor']\n",
      "> predicted='Iris-versicolor', actual=[6.6, 3.0, 4.4, 1.4, 'Iris-versicolor']\n",
      "> predicted='Iris-versicolor', actual=[6.7, 3.0, 5.0, 1.7, 'Iris-versicolor']\n",
      "> predicted='Iris-versicolor', actual=[5.8, 2.7, 3.9, 1.2, 'Iris-versicolor']\n",
      "> predicted='Iris-versicolor', actual=[5.6, 3.0, 4.1, 1.3, 'Iris-versicolor']\n",
      "> predicted='Iris-versicolor', actual=[5.5, 2.5, 4.0, 1.3, 'Iris-versicolor']\n",
      "> predicted='Iris-versicolor', actual=[5.5, 2.6, 4.4, 1.2, 'Iris-versicolor']\n",
      "> predicted='Iris-versicolor', actual=[5.6, 2.7, 4.2, 1.3, 'Iris-versicolor']\n",
      "> predicted='Iris-versicolor', actual=[5.7, 2.9, 4.2, 1.3, 'Iris-versicolor']\n",
      "> predicted='Iris-versicolor', actual=[5.7, 2.8, 4.1, 1.3, 'Iris-versicolor']\n",
      "> predicted='Iris-virginica', actual=[5.8, 2.7, 5.1, 1.9, 'Iris-virginica']\n",
      "> predicted='Iris-virginica', actual=[7.2, 3.6, 6.1, 2.5, 'Iris-virginica']\n",
      "> predicted='Iris-virginica', actual=[6.5, 3.2, 5.1, 2.0, 'Iris-virginica']\n",
      "> predicted='Iris-virginica', actual=[6.8, 3.0, 5.5, 2.1, 'Iris-virginica']\n",
      "> predicted='Iris-virginica', actual=[7.7, 3.8, 6.7, 2.2, 'Iris-virginica']\n",
      "> predicted='Iris-versicolor', actual=[6.0, 2.2, 5.0, 1.5, 'Iris-virginica']\n",
      "> predicted='Iris-virginica', actual=[7.7, 2.8, 6.7, 2.0, 'Iris-virginica']\n",
      "> predicted='Iris-virginica', actual=[7.4, 2.8, 6.1, 1.9, 'Iris-virginica']\n",
      "> predicted='Iris-virginica', actual=[7.9, 3.8, 6.4, 2.0, 'Iris-virginica']\n",
      "> predicted='Iris-virginica', actual=[6.1, 2.6, 5.6, 1.4, 'Iris-virginica']\n",
      "> predicted='Iris-virginica', actual=[7.7, 3.0, 6.1, 2.3, 'Iris-virginica']\n",
      "> predicted='Iris-virginica', actual=[6.4, 3.1, 5.5, 1.8, 'Iris-virginica']\n",
      "> predicted='Iris-virginica', actual=[6.7, 3.1, 5.6, 2.4, 'Iris-virginica']\n",
      "> predicted='Iris-virginica', actual=[6.9, 3.1, 5.1, 2.3, 'Iris-virginica']\n",
      "> predicted='Iris-virginica', actual=[6.8, 3.2, 5.9, 2.3, 'Iris-virginica']\n",
      "> predicted='Iris-virginica', actual=[6.7, 3.0, 5.2, 2.3, 'Iris-virginica']\n",
      "> predicted='Iris-virginica', actual=[6.3, 2.5, 5.0, 1.9, 'Iris-virginica']\n",
      "Accuracy: 0.00%\n"
     ]
    }
   ],
   "source": [
    "def main():\n",
    "\n",
    "    # perpare data\n",
    "    trainingSet = []\n",
    "    testSet = []\n",
    "    split = 0.67\n",
    "    loadDataset('iris.data.txt', split, trainingSet, testSet)\n",
    "    print('Train set: ' + repr(len(trainingSet)))\n",
    "    print('Test set: ' + repr(len(testSet)))\n",
    "\n",
    "    # generate predictions\n",
    "    predictions = []\n",
    "    k = 5\n",
    "    for i in range(len(testSet)):\n",
    "        neighbors = getNeighbors(trainingSet, testSet[i], k)\n",
    "        result = getResponse(neighbors)\n",
    "        predictions.append(result)\n",
    "        print('> predicted=' + repr(result) + ', actual=' + repr(testSet[i]))\n",
    "    accuracy = getAccuracy(testSet, predictions)\n",
    "    print('Accuracy: {:.2%}'.format(accuracy))\n",
    "\n",
    "import doctest\n",
    "doctest.testmod()\n",
    "\n",
    "main()\n"
   ]
  },
  {
   "cell_type": "markdown",
   "id": "4a22ab40",
   "metadata": {},
   "source": [
    "\n",
    "\n",
    "# 7. Une autre mesure de distance"
   ]
  },
  {
   "attachments": {},
   "cell_type": "markdown",
   "id": "4e3700c9",
   "metadata": {},
   "source": [
    "### Distance Manhattan :\n",
    "\n",
    "#### la distance de Manhattan: calcule la somme des valeurs absolues des différences entre les coordonnées de deux points.\n"
   ]
  },
  {
   "cell_type": "code",
   "execution_count": null,
   "id": "6f236602",
   "metadata": {},
   "outputs": [],
   "source": []
  }
 ],
 "metadata": {
  "kernelspec": {
   "display_name": "Python 3 (ipykernel)",
   "language": "python",
   "name": "python3"
  },
  "language_info": {
   "codemirror_mode": {
    "name": "ipython",
    "version": 3
   },
   "file_extension": ".py",
   "mimetype": "text/x-python",
   "name": "python",
   "nbconvert_exporter": "python",
   "pygments_lexer": "ipython3",
   "version": "3.9.12"
  }
 },
 "nbformat": 4,
 "nbformat_minor": 5
}
