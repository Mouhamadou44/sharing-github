{
 "cells": [
  {
   "cell_type": "code",
   "execution_count": 5,
   "id": "01838579",
   "metadata": {},
   "outputs": [
    {
     "name": "stdout",
     "output_type": "stream",
     "text": [
      "[2016, 2051, 2086, 2121, 2156, 2191, 2226, 2261, 2296, 2331, 2366, 2401, 2436, 2471, 2506, 2541, 2576, 2611, 2646, 2681, 2716, 2751, 2786, 2821, 2856, 2891, 2926, 2961, 2996, 3031, 3066, 3101, 3136, 3171]\n"
     ]
    }
   ],
   "source": [
    "#Réponse 1.\n",
    "\n",
    "nums = list(range(2000,3200))\n",
    "new_list=[]\n",
    "for x in nums:\n",
    "    if x % 7 ==0 and x % 5 ==1:\n",
    "        new_list.append(x)\n",
    "print(new_list)"
   ]
  },
  {
   "cell_type": "code",
   "execution_count": 2,
   "id": "50470a63",
   "metadata": {},
   "outputs": [
    {
     "name": "stdout",
     "output_type": "stream",
     "text": [
      "5\n",
      "120\n"
     ]
    }
   ],
   "source": [
    "#Réponse 2.\n",
    "\n",
    "num = int(input())\n",
    "fact = 1\n",
    "for i in range(1,num+1):\n",
    "    fact = fact*i \n",
    "print(fact)"
   ]
  },
  {
   "cell_type": "code",
   "execution_count": 3,
   "id": "2cf60773",
   "metadata": {},
   "outputs": [
    {
     "name": "stdout",
     "output_type": "stream",
     "text": [
      "8\n",
      "{1: 1, 2: 4, 3: 9, 4: 16, 5: 25, 6: 36, 7: 49, 8: 64}\n"
     ]
    }
   ],
   "source": [
    "#Réponse 3.\n",
    "\n",
    "n = int(input())\n",
    "my_dict = {i:i*i for i in range(1,n+1)\n",
    "}\n",
    "print(my_dict)\n"
   ]
  },
  {
   "cell_type": "code",
   "execution_count": 4,
   "id": "b7e7c516",
   "metadata": {},
   "outputs": [
    {
     "data": {
      "text/plain": [
       "'ktten'"
      ]
     },
     "execution_count": 4,
     "metadata": {},
     "output_type": "execute_result"
    }
   ],
   "source": [
    "#Réponse 4.\n",
    "\n",
    "def missing_char(str, n):\n",
    "    return str[:n] + str[n+1:]\n",
    "missing_char('kitten',1)"
   ]
  },
  {
   "cell_type": "code",
   "execution_count": 3,
   "id": "0a6eb2df",
   "metadata": {},
   "outputs": [
    {
     "name": "stdout",
     "output_type": "stream",
     "text": [
      "[[0, 1], [2, 3], [4, 5]]\n"
     ]
    }
   ],
   "source": [
    "#Réponse 5.\n",
    "\n",
    "import numpy as np\n",
    "new_array=np.array([[0,1],[2,3],[4,5]])\n",
    "list=new_array.tolist()\n",
    "print(list)\n"
   ]
  },
  {
   "cell_type": "code",
   "execution_count": 1,
   "id": "91eb9552",
   "metadata": {},
   "outputs": [
    {
     "name": "stdout",
     "output_type": "stream",
     "text": [
      "[[ 1. -1.]\n",
      " [-1.  1.]]\n"
     ]
    }
   ],
   "source": [
    "#Réponse 6.\n",
    "\n",
    "import numpy as np\n",
    "array1=np.array([0,1,2])\n",
    "array2=np.array([2,1,0])\n",
    "covariance=np.cov(array1,array2)\n",
    "print(covariance)\n"
   ]
  },
  {
   "cell_type": "code",
   "execution_count": 2,
   "id": "7de047aa",
   "metadata": {},
   "outputs": [
    {
     "name": "stdout",
     "output_type": "stream",
     "text": [
      "100\n",
      "18\n"
     ]
    }
   ],
   "source": [
    "#Réponse 7.\n",
    "\n",
    "import math \n",
    "c=50 \n",
    "h=30 \n",
    "value = [] \n",
    "items=[x for x in input().split(',')] \n",
    "for d in items:\n",
    "    value.append(str(int(round(math.sqrt(2*c*float(d)/h))))) \n",
    "print(','.join(value))\n"
   ]
  },
  {
   "cell_type": "code",
   "execution_count": null,
   "id": "f9d83932",
   "metadata": {},
   "outputs": [],
   "source": []
  }
 ],
 "metadata": {
  "kernelspec": {
   "display_name": "Python 3 (ipykernel)",
   "language": "python",
   "name": "python3"
  },
  "language_info": {
   "codemirror_mode": {
    "name": "ipython",
    "version": 3
   },
   "file_extension": ".py",
   "mimetype": "text/x-python",
   "name": "python",
   "nbconvert_exporter": "python",
   "pygments_lexer": "ipython3",
   "version": "3.9.12"
  }
 },
 "nbformat": 4,
 "nbformat_minor": 5
}
