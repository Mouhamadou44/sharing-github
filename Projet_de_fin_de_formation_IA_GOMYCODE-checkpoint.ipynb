{
 "cells": [
  {
   "cell_type": "markdown",
   "id": "bb0974ae",
   "metadata": {},
   "source": [
    "# 1. Understand the problem\n",
    "\n",
    "\n",
    "##### Prédire la note finale d'un élève en mathématiques en fonction de quelques conditions sociales et d'étude."
   ]
  },
  {
   "cell_type": "markdown",
   "id": "1dd7323e",
   "metadata": {},
   "source": [
    "# 2. Choose an appropriate data\n",
    "\n",
    "##### LA DESCRIPTION\n",
    "Données sur la la note en mathématiques des élèves du secondaire avec des informations sociales, sur le sexe et sur les études.\n",
    "\n",
    "##### SOMMAIRE\n",
    "Les données ont été obtenues lors d'une enquête auprès des élèves des cours de mathématiques à l'école secondaire. Il contient beaucoup d'informations sociales, de genre et d'études intéressantes sur les étudiants. Vous pouvez l'utiliser pour certains EDA ou essayer de prédire la note finale des étudiants.\n",
    "\n",
    "Attributs pour les ensembles de données student-mat.csv:\n",
    "\n",
    "**school** - école de l'élève (binaire : 'GP' - Gabriel Pereira ou 'MS' - Mousinho da Silveira)\n",
    "\n",
    "**sex** - sexe de l'élève (binaire : 'F' - féminin ou 'M' - masculin)\n",
    "\n",
    "**age** - âge de l'élève (numérique : de 15 à 22)\n",
    "\n",
    "**address** - type d'adresse du domicile de l'étudiant (binaire : 'U' - urbain ou 'R' - rural)\n",
    "\n",
    "**famsize** - taille de la famille (binaire : 'LE3' - inférieur ou égal à 3 ou 'GT3' - supérieur à 3)\n",
    "\n",
    "**Pstatus** - statut de cohabitation des parents (binaire : 'T' - vivant ensemble ou 'A' - séparé)\n",
    "\n",
    "**Medu** - éducation de la mère (numérique : 0 - aucun, 1 - enseignement primaire (4e année), 2 - 5e à 9e année, 3 - enseignement secondaire ou 4 - enseignement supérieur)\n",
    "\n",
    "**Fedu** - éducation du père (numérique : 0 - aucun, 1 - enseignement primaire (4e année), 2 - 5e à 9e année, 3 - enseignement secondaire ou 4 - enseignement supérieur)\n",
    "\n",
    "**Mjob** - travail de la mère (nominal : « enseignant », « soins de santé », « services » civils (par exemple, administration ou police), « à domicile » ou « autre »)\n",
    "\n",
    "**Fjob** - emploi du père (nominal : « enseignant », « soins de santé » liés aux soins, « services » civils (par exemple, administration ou police), « à domicile » ou « autre »)\n",
    "\n",
    "**reason** - raison de choisir cette école (nominal : proche de la « maison », « réputation » de l'école, préférence de « cours » ou « autre »)\n",
    "\n",
    "**guardian** - tuteur de l'élève (nominal : « mère », « père » ou « autre »)\n",
    "\n",
    "**traveltime** - temps de trajet domicile-école (numérique : 1 - <15 min., 2 - 15 à 30 min., 3 - 30 min. à 1 heure, ou 4 - >1 heure)\n",
    "\n",
    "**studytime** - temps d'étude hebdomadaire (numérique : 1 - <2 heures, 2 - 2 à 5 heures, 3 - 5 à 10 heures, ou 4 - >10 heures)\n",
    "\n",
    "**failures** - nombre d'échecs de classe passés (numérique : n si 1<=n<3, sinon 4)\n",
    "\n",
    "**schoolsup** - soutien pédagogique supplémentaire (binaire : oui ou non)\n",
    "\n",
    "**famsup** - soutien éducatif familial (binaire : oui ou non)\n",
    "\n",
    "**paid** - cours supplémentaires payés dans le cadre du cours (maths) (binaire : oui ou non)\n",
    "\n",
    "**activities** - activités parascolaires (binaire : oui ou non)\n",
    "\n",
    "**nursery** - a fréquenté l'école maternelle (binaire : oui ou non)\n",
    "\n",
    "**higher** - veut faire des études supérieures (binaire : oui ou non)\n",
    "\n",
    "**internet** - Accès internet à domicile (binaire : oui ou non)\n",
    "\n",
    "**romantic** - avec une relation amoureuse (binaire : oui ou non)\n",
    "\n",
    "**famrel** - qualité des relations familiales (numérique : de 1 - très mauvais à 5 - excellent)\n",
    "\n",
    "**freetime** - temps libre après l'école (numérique : de 1 - très faible à 5 - très élevé)\n",
    "\n",
    "**goout** - sortir avec des amis (numérique : de 1 - très faible à 5 - très élevé)\n",
    "\n",
    "**Dalc** - consommation d'alcool au travail (numérique : de 1 - très faible à 5 - très élevée)\n",
    "\n",
    "**Walc** - consommation d'alcool le week-end (numérique : de 1 - très faible à 5 - très élevée)\n",
    "\n",
    "**health** - état de santé actuel (numérique : de 1 - très mauvais à 5 - très bon)\n",
    "\n",
    "**absences** - nombre d'absences scolaires (numérique : de 0 à 93)\n",
    "\n",
    "Ces notes sont liées à la matière du cours, Mathématiques:\n",
    "\n",
    "**G1** - note de première période (numérique : de 0 à 20)\n",
    "\n",
    "**G2** - note de deuxième période (numérique : de 0 à 20)\n",
    "\n",
    "**G3** - note finale (numérique : de 0 à 20, objectif de sortie)\n",
    "\n",
    "**Source** : Kaggle"
   ]
  },
  {
   "cell_type": "code",
   "execution_count": 1,
   "id": "1a337075",
   "metadata": {},
   "outputs": [],
   "source": [
    "import pandas as pd\n",
    "import numpy as np\n",
    "import matplotlib as mpl\n",
    "import matplotlib.pyplot as plt\n",
    "import seaborn as sns\n",
    "\n",
    "from sklearn.model_selection import train_test_split\n",
    "from sklearn.linear_model import LinearRegression\n",
    "from sklearn.preprocessing import PolynomialFeatures \n",
    "from sklearn.metrics import mean_squared_error\n",
    "from sklearn import metrics\n"
   ]
  },
  {
   "cell_type": "code",
   "execution_count": 2,
   "id": "057f4001",
   "metadata": {
    "scrolled": false
   },
   "outputs": [
    {
     "data": {
      "text/html": [
       "<div>\n",
       "<style scoped>\n",
       "    .dataframe tbody tr th:only-of-type {\n",
       "        vertical-align: middle;\n",
       "    }\n",
       "\n",
       "    .dataframe tbody tr th {\n",
       "        vertical-align: top;\n",
       "    }\n",
       "\n",
       "    .dataframe thead th {\n",
       "        text-align: right;\n",
       "    }\n",
       "</style>\n",
       "<table border=\"1\" class=\"dataframe\">\n",
       "  <thead>\n",
       "    <tr style=\"text-align: right;\">\n",
       "      <th></th>\n",
       "      <th>school</th>\n",
       "      <th>sex</th>\n",
       "      <th>age</th>\n",
       "      <th>address</th>\n",
       "      <th>famsize</th>\n",
       "      <th>Pstatus</th>\n",
       "      <th>Medu</th>\n",
       "      <th>Fedu</th>\n",
       "      <th>Mjob</th>\n",
       "      <th>Fjob</th>\n",
       "      <th>...</th>\n",
       "      <th>famrel</th>\n",
       "      <th>freetime</th>\n",
       "      <th>goout</th>\n",
       "      <th>Dalc</th>\n",
       "      <th>Walc</th>\n",
       "      <th>health</th>\n",
       "      <th>absences</th>\n",
       "      <th>G1</th>\n",
       "      <th>G2</th>\n",
       "      <th>G3</th>\n",
       "    </tr>\n",
       "  </thead>\n",
       "  <tbody>\n",
       "    <tr>\n",
       "      <th>0</th>\n",
       "      <td>GP</td>\n",
       "      <td>F</td>\n",
       "      <td>18</td>\n",
       "      <td>U</td>\n",
       "      <td>GT3</td>\n",
       "      <td>A</td>\n",
       "      <td>4</td>\n",
       "      <td>4</td>\n",
       "      <td>at_home</td>\n",
       "      <td>teacher</td>\n",
       "      <td>...</td>\n",
       "      <td>4</td>\n",
       "      <td>3</td>\n",
       "      <td>4</td>\n",
       "      <td>1</td>\n",
       "      <td>1</td>\n",
       "      <td>3</td>\n",
       "      <td>6</td>\n",
       "      <td>5</td>\n",
       "      <td>6</td>\n",
       "      <td>6</td>\n",
       "    </tr>\n",
       "    <tr>\n",
       "      <th>1</th>\n",
       "      <td>GP</td>\n",
       "      <td>F</td>\n",
       "      <td>17</td>\n",
       "      <td>U</td>\n",
       "      <td>GT3</td>\n",
       "      <td>T</td>\n",
       "      <td>1</td>\n",
       "      <td>1</td>\n",
       "      <td>at_home</td>\n",
       "      <td>other</td>\n",
       "      <td>...</td>\n",
       "      <td>5</td>\n",
       "      <td>3</td>\n",
       "      <td>3</td>\n",
       "      <td>1</td>\n",
       "      <td>1</td>\n",
       "      <td>3</td>\n",
       "      <td>4</td>\n",
       "      <td>5</td>\n",
       "      <td>5</td>\n",
       "      <td>6</td>\n",
       "    </tr>\n",
       "    <tr>\n",
       "      <th>2</th>\n",
       "      <td>GP</td>\n",
       "      <td>F</td>\n",
       "      <td>15</td>\n",
       "      <td>U</td>\n",
       "      <td>LE3</td>\n",
       "      <td>T</td>\n",
       "      <td>1</td>\n",
       "      <td>1</td>\n",
       "      <td>at_home</td>\n",
       "      <td>other</td>\n",
       "      <td>...</td>\n",
       "      <td>4</td>\n",
       "      <td>3</td>\n",
       "      <td>2</td>\n",
       "      <td>2</td>\n",
       "      <td>3</td>\n",
       "      <td>3</td>\n",
       "      <td>10</td>\n",
       "      <td>7</td>\n",
       "      <td>8</td>\n",
       "      <td>10</td>\n",
       "    </tr>\n",
       "    <tr>\n",
       "      <th>3</th>\n",
       "      <td>GP</td>\n",
       "      <td>F</td>\n",
       "      <td>15</td>\n",
       "      <td>U</td>\n",
       "      <td>GT3</td>\n",
       "      <td>T</td>\n",
       "      <td>4</td>\n",
       "      <td>2</td>\n",
       "      <td>health</td>\n",
       "      <td>services</td>\n",
       "      <td>...</td>\n",
       "      <td>3</td>\n",
       "      <td>2</td>\n",
       "      <td>2</td>\n",
       "      <td>1</td>\n",
       "      <td>1</td>\n",
       "      <td>5</td>\n",
       "      <td>2</td>\n",
       "      <td>15</td>\n",
       "      <td>14</td>\n",
       "      <td>15</td>\n",
       "    </tr>\n",
       "    <tr>\n",
       "      <th>4</th>\n",
       "      <td>GP</td>\n",
       "      <td>F</td>\n",
       "      <td>16</td>\n",
       "      <td>U</td>\n",
       "      <td>GT3</td>\n",
       "      <td>T</td>\n",
       "      <td>3</td>\n",
       "      <td>3</td>\n",
       "      <td>other</td>\n",
       "      <td>other</td>\n",
       "      <td>...</td>\n",
       "      <td>4</td>\n",
       "      <td>3</td>\n",
       "      <td>2</td>\n",
       "      <td>1</td>\n",
       "      <td>2</td>\n",
       "      <td>5</td>\n",
       "      <td>4</td>\n",
       "      <td>6</td>\n",
       "      <td>10</td>\n",
       "      <td>10</td>\n",
       "    </tr>\n",
       "    <tr>\n",
       "      <th>...</th>\n",
       "      <td>...</td>\n",
       "      <td>...</td>\n",
       "      <td>...</td>\n",
       "      <td>...</td>\n",
       "      <td>...</td>\n",
       "      <td>...</td>\n",
       "      <td>...</td>\n",
       "      <td>...</td>\n",
       "      <td>...</td>\n",
       "      <td>...</td>\n",
       "      <td>...</td>\n",
       "      <td>...</td>\n",
       "      <td>...</td>\n",
       "      <td>...</td>\n",
       "      <td>...</td>\n",
       "      <td>...</td>\n",
       "      <td>...</td>\n",
       "      <td>...</td>\n",
       "      <td>...</td>\n",
       "      <td>...</td>\n",
       "      <td>...</td>\n",
       "    </tr>\n",
       "    <tr>\n",
       "      <th>390</th>\n",
       "      <td>MS</td>\n",
       "      <td>M</td>\n",
       "      <td>20</td>\n",
       "      <td>U</td>\n",
       "      <td>LE3</td>\n",
       "      <td>A</td>\n",
       "      <td>2</td>\n",
       "      <td>2</td>\n",
       "      <td>services</td>\n",
       "      <td>services</td>\n",
       "      <td>...</td>\n",
       "      <td>5</td>\n",
       "      <td>5</td>\n",
       "      <td>4</td>\n",
       "      <td>4</td>\n",
       "      <td>5</td>\n",
       "      <td>4</td>\n",
       "      <td>11</td>\n",
       "      <td>9</td>\n",
       "      <td>9</td>\n",
       "      <td>9</td>\n",
       "    </tr>\n",
       "    <tr>\n",
       "      <th>391</th>\n",
       "      <td>MS</td>\n",
       "      <td>M</td>\n",
       "      <td>17</td>\n",
       "      <td>U</td>\n",
       "      <td>LE3</td>\n",
       "      <td>T</td>\n",
       "      <td>3</td>\n",
       "      <td>1</td>\n",
       "      <td>services</td>\n",
       "      <td>services</td>\n",
       "      <td>...</td>\n",
       "      <td>2</td>\n",
       "      <td>4</td>\n",
       "      <td>5</td>\n",
       "      <td>3</td>\n",
       "      <td>4</td>\n",
       "      <td>2</td>\n",
       "      <td>3</td>\n",
       "      <td>14</td>\n",
       "      <td>16</td>\n",
       "      <td>16</td>\n",
       "    </tr>\n",
       "    <tr>\n",
       "      <th>392</th>\n",
       "      <td>MS</td>\n",
       "      <td>M</td>\n",
       "      <td>21</td>\n",
       "      <td>R</td>\n",
       "      <td>GT3</td>\n",
       "      <td>T</td>\n",
       "      <td>1</td>\n",
       "      <td>1</td>\n",
       "      <td>other</td>\n",
       "      <td>other</td>\n",
       "      <td>...</td>\n",
       "      <td>5</td>\n",
       "      <td>5</td>\n",
       "      <td>3</td>\n",
       "      <td>3</td>\n",
       "      <td>3</td>\n",
       "      <td>3</td>\n",
       "      <td>3</td>\n",
       "      <td>10</td>\n",
       "      <td>8</td>\n",
       "      <td>7</td>\n",
       "    </tr>\n",
       "    <tr>\n",
       "      <th>393</th>\n",
       "      <td>MS</td>\n",
       "      <td>M</td>\n",
       "      <td>18</td>\n",
       "      <td>R</td>\n",
       "      <td>LE3</td>\n",
       "      <td>T</td>\n",
       "      <td>3</td>\n",
       "      <td>2</td>\n",
       "      <td>services</td>\n",
       "      <td>other</td>\n",
       "      <td>...</td>\n",
       "      <td>4</td>\n",
       "      <td>4</td>\n",
       "      <td>1</td>\n",
       "      <td>3</td>\n",
       "      <td>4</td>\n",
       "      <td>5</td>\n",
       "      <td>0</td>\n",
       "      <td>11</td>\n",
       "      <td>12</td>\n",
       "      <td>10</td>\n",
       "    </tr>\n",
       "    <tr>\n",
       "      <th>394</th>\n",
       "      <td>MS</td>\n",
       "      <td>M</td>\n",
       "      <td>19</td>\n",
       "      <td>U</td>\n",
       "      <td>LE3</td>\n",
       "      <td>T</td>\n",
       "      <td>1</td>\n",
       "      <td>1</td>\n",
       "      <td>other</td>\n",
       "      <td>at_home</td>\n",
       "      <td>...</td>\n",
       "      <td>3</td>\n",
       "      <td>2</td>\n",
       "      <td>3</td>\n",
       "      <td>3</td>\n",
       "      <td>3</td>\n",
       "      <td>5</td>\n",
       "      <td>5</td>\n",
       "      <td>8</td>\n",
       "      <td>9</td>\n",
       "      <td>9</td>\n",
       "    </tr>\n",
       "  </tbody>\n",
       "</table>\n",
       "<p>395 rows × 33 columns</p>\n",
       "</div>"
      ],
      "text/plain": [
       "    school sex  age address famsize Pstatus  Medu  Fedu      Mjob      Fjob  \\\n",
       "0       GP   F   18       U     GT3       A     4     4   at_home   teacher   \n",
       "1       GP   F   17       U     GT3       T     1     1   at_home     other   \n",
       "2       GP   F   15       U     LE3       T     1     1   at_home     other   \n",
       "3       GP   F   15       U     GT3       T     4     2    health  services   \n",
       "4       GP   F   16       U     GT3       T     3     3     other     other   \n",
       "..     ...  ..  ...     ...     ...     ...   ...   ...       ...       ...   \n",
       "390     MS   M   20       U     LE3       A     2     2  services  services   \n",
       "391     MS   M   17       U     LE3       T     3     1  services  services   \n",
       "392     MS   M   21       R     GT3       T     1     1     other     other   \n",
       "393     MS   M   18       R     LE3       T     3     2  services     other   \n",
       "394     MS   M   19       U     LE3       T     1     1     other   at_home   \n",
       "\n",
       "     ... famrel freetime  goout  Dalc  Walc health absences  G1  G2  G3  \n",
       "0    ...      4        3      4     1     1      3        6   5   6   6  \n",
       "1    ...      5        3      3     1     1      3        4   5   5   6  \n",
       "2    ...      4        3      2     2     3      3       10   7   8  10  \n",
       "3    ...      3        2      2     1     1      5        2  15  14  15  \n",
       "4    ...      4        3      2     1     2      5        4   6  10  10  \n",
       "..   ...    ...      ...    ...   ...   ...    ...      ...  ..  ..  ..  \n",
       "390  ...      5        5      4     4     5      4       11   9   9   9  \n",
       "391  ...      2        4      5     3     4      2        3  14  16  16  \n",
       "392  ...      5        5      3     3     3      3        3  10   8   7  \n",
       "393  ...      4        4      1     3     4      5        0  11  12  10  \n",
       "394  ...      3        2      3     3     3      5        5   8   9   9  \n",
       "\n",
       "[395 rows x 33 columns]"
      ]
     },
     "execution_count": 2,
     "metadata": {},
     "output_type": "execute_result"
    }
   ],
   "source": [
    "data = pd.read_csv('student-mat.csv')\n",
    "data"
   ]
  },
  {
   "cell_type": "markdown",
   "id": "b353a689",
   "metadata": {},
   "source": [
    "\n",
    "\n",
    "\n",
    "# 3. Prepare the data"
   ]
  },
  {
   "cell_type": "markdown",
   "id": "6f45fda0",
   "metadata": {},
   "source": [
    "**Affichons quelques informations de notre jeu de données**"
   ]
  },
  {
   "cell_type": "code",
   "execution_count": 3,
   "id": "0a2db13c",
   "metadata": {},
   "outputs": [
    {
     "data": {
      "text/plain": [
       "Index(['school', 'sex', 'age', 'address', 'famsize', 'Pstatus', 'Medu', 'Fedu',\n",
       "       'Mjob', 'Fjob', 'reason', 'guardian', 'traveltime', 'studytime',\n",
       "       'failures', 'schoolsup', 'famsup', 'paid', 'activities', 'nursery',\n",
       "       'higher', 'internet', 'romantic', 'famrel', 'freetime', 'goout', 'Dalc',\n",
       "       'Walc', 'health', 'absences', 'G1', 'G2', 'G3'],\n",
       "      dtype='object')"
      ]
     },
     "execution_count": 3,
     "metadata": {},
     "output_type": "execute_result"
    }
   ],
   "source": [
    "data.columns"
   ]
  },
  {
   "cell_type": "code",
   "execution_count": 4,
   "id": "d0975369",
   "metadata": {
    "scrolled": false
   },
   "outputs": [
    {
     "name": "stdout",
     "output_type": "stream",
     "text": [
      "<class 'pandas.core.frame.DataFrame'>\n",
      "RangeIndex: 395 entries, 0 to 394\n",
      "Data columns (total 33 columns):\n",
      " #   Column      Non-Null Count  Dtype \n",
      "---  ------      --------------  ----- \n",
      " 0   school      395 non-null    object\n",
      " 1   sex         395 non-null    object\n",
      " 2   age         395 non-null    int64 \n",
      " 3   address     395 non-null    object\n",
      " 4   famsize     395 non-null    object\n",
      " 5   Pstatus     395 non-null    object\n",
      " 6   Medu        395 non-null    int64 \n",
      " 7   Fedu        395 non-null    int64 \n",
      " 8   Mjob        395 non-null    object\n",
      " 9   Fjob        395 non-null    object\n",
      " 10  reason      395 non-null    object\n",
      " 11  guardian    395 non-null    object\n",
      " 12  traveltime  395 non-null    int64 \n",
      " 13  studytime   395 non-null    int64 \n",
      " 14  failures    395 non-null    int64 \n",
      " 15  schoolsup   395 non-null    object\n",
      " 16  famsup      395 non-null    object\n",
      " 17  paid        395 non-null    object\n",
      " 18  activities  395 non-null    object\n",
      " 19  nursery     395 non-null    object\n",
      " 20  higher      395 non-null    object\n",
      " 21  internet    395 non-null    object\n",
      " 22  romantic    395 non-null    object\n",
      " 23  famrel      395 non-null    int64 \n",
      " 24  freetime    395 non-null    int64 \n",
      " 25  goout       395 non-null    int64 \n",
      " 26  Dalc        395 non-null    int64 \n",
      " 27  Walc        395 non-null    int64 \n",
      " 28  health      395 non-null    int64 \n",
      " 29  absences    395 non-null    int64 \n",
      " 30  G1          395 non-null    int64 \n",
      " 31  G2          395 non-null    int64 \n",
      " 32  G3          395 non-null    int64 \n",
      "dtypes: int64(16), object(17)\n",
      "memory usage: 102.0+ KB\n"
     ]
    }
   ],
   "source": [
    "data.info()"
   ]
  },
  {
   "cell_type": "code",
   "execution_count": 5,
   "id": "bbd3a068",
   "metadata": {
    "scrolled": true
   },
   "outputs": [
    {
     "data": {
      "text/html": [
       "<div>\n",
       "<style scoped>\n",
       "    .dataframe tbody tr th:only-of-type {\n",
       "        vertical-align: middle;\n",
       "    }\n",
       "\n",
       "    .dataframe tbody tr th {\n",
       "        vertical-align: top;\n",
       "    }\n",
       "\n",
       "    .dataframe thead th {\n",
       "        text-align: right;\n",
       "    }\n",
       "</style>\n",
       "<table border=\"1\" class=\"dataframe\">\n",
       "  <thead>\n",
       "    <tr style=\"text-align: right;\">\n",
       "      <th></th>\n",
       "      <th>age</th>\n",
       "      <th>Medu</th>\n",
       "      <th>Fedu</th>\n",
       "      <th>traveltime</th>\n",
       "      <th>studytime</th>\n",
       "      <th>failures</th>\n",
       "      <th>famrel</th>\n",
       "      <th>freetime</th>\n",
       "      <th>goout</th>\n",
       "      <th>Dalc</th>\n",
       "      <th>Walc</th>\n",
       "      <th>health</th>\n",
       "      <th>absences</th>\n",
       "      <th>G1</th>\n",
       "      <th>G2</th>\n",
       "      <th>G3</th>\n",
       "    </tr>\n",
       "  </thead>\n",
       "  <tbody>\n",
       "    <tr>\n",
       "      <th>count</th>\n",
       "      <td>395.000000</td>\n",
       "      <td>395.000000</td>\n",
       "      <td>395.000000</td>\n",
       "      <td>395.000000</td>\n",
       "      <td>395.000000</td>\n",
       "      <td>395.000000</td>\n",
       "      <td>395.000000</td>\n",
       "      <td>395.000000</td>\n",
       "      <td>395.000000</td>\n",
       "      <td>395.000000</td>\n",
       "      <td>395.000000</td>\n",
       "      <td>395.000000</td>\n",
       "      <td>395.000000</td>\n",
       "      <td>395.000000</td>\n",
       "      <td>395.000000</td>\n",
       "      <td>395.000000</td>\n",
       "    </tr>\n",
       "    <tr>\n",
       "      <th>mean</th>\n",
       "      <td>16.696203</td>\n",
       "      <td>2.749367</td>\n",
       "      <td>2.521519</td>\n",
       "      <td>1.448101</td>\n",
       "      <td>2.035443</td>\n",
       "      <td>0.334177</td>\n",
       "      <td>3.944304</td>\n",
       "      <td>3.235443</td>\n",
       "      <td>3.108861</td>\n",
       "      <td>1.481013</td>\n",
       "      <td>2.291139</td>\n",
       "      <td>3.554430</td>\n",
       "      <td>5.708861</td>\n",
       "      <td>10.908861</td>\n",
       "      <td>10.713924</td>\n",
       "      <td>10.415190</td>\n",
       "    </tr>\n",
       "    <tr>\n",
       "      <th>std</th>\n",
       "      <td>1.276043</td>\n",
       "      <td>1.094735</td>\n",
       "      <td>1.088201</td>\n",
       "      <td>0.697505</td>\n",
       "      <td>0.839240</td>\n",
       "      <td>0.743651</td>\n",
       "      <td>0.896659</td>\n",
       "      <td>0.998862</td>\n",
       "      <td>1.113278</td>\n",
       "      <td>0.890741</td>\n",
       "      <td>1.287897</td>\n",
       "      <td>1.390303</td>\n",
       "      <td>8.003096</td>\n",
       "      <td>3.319195</td>\n",
       "      <td>3.761505</td>\n",
       "      <td>4.581443</td>\n",
       "    </tr>\n",
       "    <tr>\n",
       "      <th>min</th>\n",
       "      <td>15.000000</td>\n",
       "      <td>0.000000</td>\n",
       "      <td>0.000000</td>\n",
       "      <td>1.000000</td>\n",
       "      <td>1.000000</td>\n",
       "      <td>0.000000</td>\n",
       "      <td>1.000000</td>\n",
       "      <td>1.000000</td>\n",
       "      <td>1.000000</td>\n",
       "      <td>1.000000</td>\n",
       "      <td>1.000000</td>\n",
       "      <td>1.000000</td>\n",
       "      <td>0.000000</td>\n",
       "      <td>3.000000</td>\n",
       "      <td>0.000000</td>\n",
       "      <td>0.000000</td>\n",
       "    </tr>\n",
       "    <tr>\n",
       "      <th>25%</th>\n",
       "      <td>16.000000</td>\n",
       "      <td>2.000000</td>\n",
       "      <td>2.000000</td>\n",
       "      <td>1.000000</td>\n",
       "      <td>1.000000</td>\n",
       "      <td>0.000000</td>\n",
       "      <td>4.000000</td>\n",
       "      <td>3.000000</td>\n",
       "      <td>2.000000</td>\n",
       "      <td>1.000000</td>\n",
       "      <td>1.000000</td>\n",
       "      <td>3.000000</td>\n",
       "      <td>0.000000</td>\n",
       "      <td>8.000000</td>\n",
       "      <td>9.000000</td>\n",
       "      <td>8.000000</td>\n",
       "    </tr>\n",
       "    <tr>\n",
       "      <th>50%</th>\n",
       "      <td>17.000000</td>\n",
       "      <td>3.000000</td>\n",
       "      <td>2.000000</td>\n",
       "      <td>1.000000</td>\n",
       "      <td>2.000000</td>\n",
       "      <td>0.000000</td>\n",
       "      <td>4.000000</td>\n",
       "      <td>3.000000</td>\n",
       "      <td>3.000000</td>\n",
       "      <td>1.000000</td>\n",
       "      <td>2.000000</td>\n",
       "      <td>4.000000</td>\n",
       "      <td>4.000000</td>\n",
       "      <td>11.000000</td>\n",
       "      <td>11.000000</td>\n",
       "      <td>11.000000</td>\n",
       "    </tr>\n",
       "    <tr>\n",
       "      <th>75%</th>\n",
       "      <td>18.000000</td>\n",
       "      <td>4.000000</td>\n",
       "      <td>3.000000</td>\n",
       "      <td>2.000000</td>\n",
       "      <td>2.000000</td>\n",
       "      <td>0.000000</td>\n",
       "      <td>5.000000</td>\n",
       "      <td>4.000000</td>\n",
       "      <td>4.000000</td>\n",
       "      <td>2.000000</td>\n",
       "      <td>3.000000</td>\n",
       "      <td>5.000000</td>\n",
       "      <td>8.000000</td>\n",
       "      <td>13.000000</td>\n",
       "      <td>13.000000</td>\n",
       "      <td>14.000000</td>\n",
       "    </tr>\n",
       "    <tr>\n",
       "      <th>max</th>\n",
       "      <td>22.000000</td>\n",
       "      <td>4.000000</td>\n",
       "      <td>4.000000</td>\n",
       "      <td>4.000000</td>\n",
       "      <td>4.000000</td>\n",
       "      <td>3.000000</td>\n",
       "      <td>5.000000</td>\n",
       "      <td>5.000000</td>\n",
       "      <td>5.000000</td>\n",
       "      <td>5.000000</td>\n",
       "      <td>5.000000</td>\n",
       "      <td>5.000000</td>\n",
       "      <td>75.000000</td>\n",
       "      <td>19.000000</td>\n",
       "      <td>19.000000</td>\n",
       "      <td>20.000000</td>\n",
       "    </tr>\n",
       "  </tbody>\n",
       "</table>\n",
       "</div>"
      ],
      "text/plain": [
       "              age        Medu        Fedu  traveltime   studytime    failures  \\\n",
       "count  395.000000  395.000000  395.000000  395.000000  395.000000  395.000000   \n",
       "mean    16.696203    2.749367    2.521519    1.448101    2.035443    0.334177   \n",
       "std      1.276043    1.094735    1.088201    0.697505    0.839240    0.743651   \n",
       "min     15.000000    0.000000    0.000000    1.000000    1.000000    0.000000   \n",
       "25%     16.000000    2.000000    2.000000    1.000000    1.000000    0.000000   \n",
       "50%     17.000000    3.000000    2.000000    1.000000    2.000000    0.000000   \n",
       "75%     18.000000    4.000000    3.000000    2.000000    2.000000    0.000000   \n",
       "max     22.000000    4.000000    4.000000    4.000000    4.000000    3.000000   \n",
       "\n",
       "           famrel    freetime       goout        Dalc        Walc      health  \\\n",
       "count  395.000000  395.000000  395.000000  395.000000  395.000000  395.000000   \n",
       "mean     3.944304    3.235443    3.108861    1.481013    2.291139    3.554430   \n",
       "std      0.896659    0.998862    1.113278    0.890741    1.287897    1.390303   \n",
       "min      1.000000    1.000000    1.000000    1.000000    1.000000    1.000000   \n",
       "25%      4.000000    3.000000    2.000000    1.000000    1.000000    3.000000   \n",
       "50%      4.000000    3.000000    3.000000    1.000000    2.000000    4.000000   \n",
       "75%      5.000000    4.000000    4.000000    2.000000    3.000000    5.000000   \n",
       "max      5.000000    5.000000    5.000000    5.000000    5.000000    5.000000   \n",
       "\n",
       "         absences          G1          G2          G3  \n",
       "count  395.000000  395.000000  395.000000  395.000000  \n",
       "mean     5.708861   10.908861   10.713924   10.415190  \n",
       "std      8.003096    3.319195    3.761505    4.581443  \n",
       "min      0.000000    3.000000    0.000000    0.000000  \n",
       "25%      0.000000    8.000000    9.000000    8.000000  \n",
       "50%      4.000000   11.000000   11.000000   11.000000  \n",
       "75%      8.000000   13.000000   13.000000   14.000000  \n",
       "max     75.000000   19.000000   19.000000   20.000000  "
      ]
     },
     "execution_count": 5,
     "metadata": {},
     "output_type": "execute_result"
    }
   ],
   "source": [
    "data.describe()"
   ]
  },
  {
   "cell_type": "code",
   "execution_count": 6,
   "id": "0b04e4c5",
   "metadata": {
    "scrolled": false
   },
   "outputs": [
    {
     "data": {
      "text/plain": [
       "school        0\n",
       "sex           0\n",
       "age           0\n",
       "address       0\n",
       "famsize       0\n",
       "Pstatus       0\n",
       "Medu          0\n",
       "Fedu          0\n",
       "Mjob          0\n",
       "Fjob          0\n",
       "reason        0\n",
       "guardian      0\n",
       "traveltime    0\n",
       "studytime     0\n",
       "failures      0\n",
       "schoolsup     0\n",
       "famsup        0\n",
       "paid          0\n",
       "activities    0\n",
       "nursery       0\n",
       "higher        0\n",
       "internet      0\n",
       "romantic      0\n",
       "famrel        0\n",
       "freetime      0\n",
       "goout         0\n",
       "Dalc          0\n",
       "Walc          0\n",
       "health        0\n",
       "absences      0\n",
       "G1            0\n",
       "G2            0\n",
       "G3            0\n",
       "dtype: int64"
      ]
     },
     "execution_count": 6,
     "metadata": {},
     "output_type": "execute_result"
    }
   ],
   "source": [
    "data.isnull().sum()"
   ]
  },
  {
   "cell_type": "markdown",
   "id": "9f7ca317",
   "metadata": {},
   "source": [
    "# \n",
    "\n",
    "**Étant donné que la plupart des algorithmes d'apprentissage automatique et des métriques de corrélation sont basés sur des valeurs numériques , nous devons convertir toutes les données en valeurs numériques.**"
   ]
  },
  {
   "cell_type": "code",
   "execution_count": 7,
   "id": "3fdcd5b0",
   "metadata": {},
   "outputs": [
    {
     "data": {
      "text/html": [
       "<div>\n",
       "<style scoped>\n",
       "    .dataframe tbody tr th:only-of-type {\n",
       "        vertical-align: middle;\n",
       "    }\n",
       "\n",
       "    .dataframe tbody tr th {\n",
       "        vertical-align: top;\n",
       "    }\n",
       "\n",
       "    .dataframe thead th {\n",
       "        text-align: right;\n",
       "    }\n",
       "</style>\n",
       "<table border=\"1\" class=\"dataframe\">\n",
       "  <thead>\n",
       "    <tr style=\"text-align: right;\">\n",
       "      <th></th>\n",
       "      <th>school</th>\n",
       "      <th>sex</th>\n",
       "      <th>age</th>\n",
       "      <th>address</th>\n",
       "      <th>famsize</th>\n",
       "      <th>Pstatus</th>\n",
       "      <th>Medu</th>\n",
       "      <th>Fedu</th>\n",
       "      <th>Mjob</th>\n",
       "      <th>Fjob</th>\n",
       "      <th>...</th>\n",
       "      <th>famrel</th>\n",
       "      <th>freetime</th>\n",
       "      <th>goout</th>\n",
       "      <th>Dalc</th>\n",
       "      <th>Walc</th>\n",
       "      <th>health</th>\n",
       "      <th>absences</th>\n",
       "      <th>G1</th>\n",
       "      <th>G2</th>\n",
       "      <th>G3</th>\n",
       "    </tr>\n",
       "  </thead>\n",
       "  <tbody>\n",
       "    <tr>\n",
       "      <th>0</th>\n",
       "      <td>0</td>\n",
       "      <td>0</td>\n",
       "      <td>18</td>\n",
       "      <td>1</td>\n",
       "      <td>4</td>\n",
       "      <td>0</td>\n",
       "      <td>4</td>\n",
       "      <td>4</td>\n",
       "      <td>0</td>\n",
       "      <td>1</td>\n",
       "      <td>...</td>\n",
       "      <td>4</td>\n",
       "      <td>3</td>\n",
       "      <td>4</td>\n",
       "      <td>1</td>\n",
       "      <td>1</td>\n",
       "      <td>3</td>\n",
       "      <td>6</td>\n",
       "      <td>5</td>\n",
       "      <td>6</td>\n",
       "      <td>6</td>\n",
       "    </tr>\n",
       "    <tr>\n",
       "      <th>1</th>\n",
       "      <td>0</td>\n",
       "      <td>0</td>\n",
       "      <td>17</td>\n",
       "      <td>1</td>\n",
       "      <td>4</td>\n",
       "      <td>1</td>\n",
       "      <td>1</td>\n",
       "      <td>1</td>\n",
       "      <td>0</td>\n",
       "      <td>4</td>\n",
       "      <td>...</td>\n",
       "      <td>5</td>\n",
       "      <td>3</td>\n",
       "      <td>3</td>\n",
       "      <td>1</td>\n",
       "      <td>1</td>\n",
       "      <td>3</td>\n",
       "      <td>4</td>\n",
       "      <td>5</td>\n",
       "      <td>5</td>\n",
       "      <td>6</td>\n",
       "    </tr>\n",
       "    <tr>\n",
       "      <th>2</th>\n",
       "      <td>0</td>\n",
       "      <td>0</td>\n",
       "      <td>15</td>\n",
       "      <td>1</td>\n",
       "      <td>2</td>\n",
       "      <td>1</td>\n",
       "      <td>1</td>\n",
       "      <td>1</td>\n",
       "      <td>0</td>\n",
       "      <td>4</td>\n",
       "      <td>...</td>\n",
       "      <td>4</td>\n",
       "      <td>3</td>\n",
       "      <td>2</td>\n",
       "      <td>2</td>\n",
       "      <td>3</td>\n",
       "      <td>3</td>\n",
       "      <td>10</td>\n",
       "      <td>7</td>\n",
       "      <td>8</td>\n",
       "      <td>10</td>\n",
       "    </tr>\n",
       "    <tr>\n",
       "      <th>3</th>\n",
       "      <td>0</td>\n",
       "      <td>0</td>\n",
       "      <td>15</td>\n",
       "      <td>1</td>\n",
       "      <td>4</td>\n",
       "      <td>1</td>\n",
       "      <td>4</td>\n",
       "      <td>2</td>\n",
       "      <td>2</td>\n",
       "      <td>3</td>\n",
       "      <td>...</td>\n",
       "      <td>3</td>\n",
       "      <td>2</td>\n",
       "      <td>2</td>\n",
       "      <td>1</td>\n",
       "      <td>1</td>\n",
       "      <td>5</td>\n",
       "      <td>2</td>\n",
       "      <td>15</td>\n",
       "      <td>14</td>\n",
       "      <td>15</td>\n",
       "    </tr>\n",
       "    <tr>\n",
       "      <th>4</th>\n",
       "      <td>0</td>\n",
       "      <td>0</td>\n",
       "      <td>16</td>\n",
       "      <td>1</td>\n",
       "      <td>4</td>\n",
       "      <td>1</td>\n",
       "      <td>3</td>\n",
       "      <td>3</td>\n",
       "      <td>4</td>\n",
       "      <td>4</td>\n",
       "      <td>...</td>\n",
       "      <td>4</td>\n",
       "      <td>3</td>\n",
       "      <td>2</td>\n",
       "      <td>1</td>\n",
       "      <td>2</td>\n",
       "      <td>5</td>\n",
       "      <td>4</td>\n",
       "      <td>6</td>\n",
       "      <td>10</td>\n",
       "      <td>10</td>\n",
       "    </tr>\n",
       "  </tbody>\n",
       "</table>\n",
       "<p>5 rows × 33 columns</p>\n",
       "</div>"
      ],
      "text/plain": [
       "   school  sex  age  address  famsize  Pstatus  Medu  Fedu  Mjob  Fjob  ...  \\\n",
       "0       0    0   18        1        4        0     4     4     0     1  ...   \n",
       "1       0    0   17        1        4        1     1     1     0     4  ...   \n",
       "2       0    0   15        1        2        1     1     1     0     4  ...   \n",
       "3       0    0   15        1        4        1     4     2     2     3  ...   \n",
       "4       0    0   16        1        4        1     3     3     4     4  ...   \n",
       "\n",
       "   famrel  freetime  goout  Dalc  Walc  health  absences  G1  G2  G3  \n",
       "0       4         3      4     1     1       3         6   5   6   6  \n",
       "1       5         3      3     1     1       3         4   5   5   6  \n",
       "2       4         3      2     2     3       3        10   7   8  10  \n",
       "3       3         2      2     1     1       5         2  15  14  15  \n",
       "4       4         3      2     1     2       5         4   6  10  10  \n",
       "\n",
       "[5 rows x 33 columns]"
      ]
     },
     "execution_count": 7,
     "metadata": {},
     "output_type": "execute_result"
    }
   ],
   "source": [
    "#Preprocessing our data\n",
    "def preprocess_data(new_data):\n",
    "    new_data.replace({'school':{'MS': 1,'GP':0},\n",
    "                      'sex':{'M': 1,'F':0},\n",
    "                      'address':{'U': 1,'R':0},\n",
    "                      'famsize':{'LE3': 2,'GT3':4},\n",
    "                      'Pstatus':{'T': 1,'A':0},\n",
    "                      'Mjob':{'at_home': 0,'teacher':1, 'health' :2, 'services':3, 'other':4},\n",
    "                      'Fjob':{'at_home': 0,'teacher':1, 'health' :2, 'services':3, 'other':4},\n",
    "                      'reason':{'home': 0,'course':1, 'reputation' :2, 'other':3},\n",
    "                      'guardian':{'father': 1,'mother':0, 'other':2},\n",
    "                      'schoolsup':{'yes': 1,'no':0},\n",
    "                      'famsup':{'yes': 1,'no':0},\n",
    "                      'paid':{'yes': 1,'no':0},\n",
    "                      'activities':{'yes': 1,'no':0},\n",
    "                      'nursery':{'yes': 1,'no':0},\n",
    "                      'higher':{'yes': 1,'no':0},\n",
    "                      'internet':{'yes': 1,'no':0},\n",
    "                      'romantic':{'yes': 1,'no':0}},inplace=True)\n",
    "\n",
    "    return new_data\n",
    "data=preprocess_data(data)\n",
    "data.head()\n"
   ]
  },
  {
   "cell_type": "code",
   "execution_count": 8,
   "id": "94734760",
   "metadata": {},
   "outputs": [
    {
     "name": "stdout",
     "output_type": "stream",
     "text": [
      "<class 'pandas.core.frame.DataFrame'>\n",
      "RangeIndex: 395 entries, 0 to 394\n",
      "Data columns (total 33 columns):\n",
      " #   Column      Non-Null Count  Dtype\n",
      "---  ------      --------------  -----\n",
      " 0   school      395 non-null    int64\n",
      " 1   sex         395 non-null    int64\n",
      " 2   age         395 non-null    int64\n",
      " 3   address     395 non-null    int64\n",
      " 4   famsize     395 non-null    int64\n",
      " 5   Pstatus     395 non-null    int64\n",
      " 6   Medu        395 non-null    int64\n",
      " 7   Fedu        395 non-null    int64\n",
      " 8   Mjob        395 non-null    int64\n",
      " 9   Fjob        395 non-null    int64\n",
      " 10  reason      395 non-null    int64\n",
      " 11  guardian    395 non-null    int64\n",
      " 12  traveltime  395 non-null    int64\n",
      " 13  studytime   395 non-null    int64\n",
      " 14  failures    395 non-null    int64\n",
      " 15  schoolsup   395 non-null    int64\n",
      " 16  famsup      395 non-null    int64\n",
      " 17  paid        395 non-null    int64\n",
      " 18  activities  395 non-null    int64\n",
      " 19  nursery     395 non-null    int64\n",
      " 20  higher      395 non-null    int64\n",
      " 21  internet    395 non-null    int64\n",
      " 22  romantic    395 non-null    int64\n",
      " 23  famrel      395 non-null    int64\n",
      " 24  freetime    395 non-null    int64\n",
      " 25  goout       395 non-null    int64\n",
      " 26  Dalc        395 non-null    int64\n",
      " 27  Walc        395 non-null    int64\n",
      " 28  health      395 non-null    int64\n",
      " 29  absences    395 non-null    int64\n",
      " 30  G1          395 non-null    int64\n",
      " 31  G2          395 non-null    int64\n",
      " 32  G3          395 non-null    int64\n",
      "dtypes: int64(33)\n",
      "memory usage: 102.0 KB\n"
     ]
    }
   ],
   "source": [
    "data.info()"
   ]
  },
  {
   "cell_type": "markdown",
   "id": "1678ba75",
   "metadata": {},
   "source": [
    "# \n",
    "\n",
    "\n",
    "# 4. Do some visualization\n"
   ]
  },
  {
   "cell_type": "markdown",
   "id": "5a717e94",
   "metadata": {},
   "source": [
    "# \n",
    "\n",
    "**Visualisons la distribution de la varible target et de quelques variablent qui nous semblent très importants**"
   ]
  },
  {
   "cell_type": "code",
   "execution_count": 9,
   "id": "f5f7c7cd",
   "metadata": {},
   "outputs": [
    {
     "data": {
      "text/plain": [
       "<AxesSubplot:xlabel='sex', ylabel='count'>"
      ]
     },
     "execution_count": 9,
     "metadata": {},
     "output_type": "execute_result"
    },
    {
     "data": {
      "image/png": "[encoded data removed]",
      "text/plain": [
       "<Figure size 432x288 with 1 Axes>"
      ]
     },
     "metadata": {
      "needs_background": "light"
     },
     "output_type": "display_data"
    }
   ],
   "source": [
    "# le sexe de l'élève\n",
    "\n",
    "sns.countplot(x=\"sex\", data=data)"
   ]
  },
  {
   "cell_type": "markdown",
   "id": "f765aee9",
   "metadata": {},
   "source": [
    "#### Nous voyons que le nombre de garçons concernés par cette étude représente plus de 52% des élèves.\n",
    "\n",
    "#### La différence n'est pas très grande.\n",
    "\n",
    "# "
   ]
  },
  {
   "cell_type": "code",
   "execution_count": 10,
   "id": "11a9c34e",
   "metadata": {
    "scrolled": false
   },
   "outputs": [
    {
     "data": {
      "text/plain": [
       "<AxesSubplot:xlabel='Medu', ylabel='count'>"
      ]
     },
     "execution_count": 10,
     "metadata": {},
     "output_type": "execute_result"
    },
    {
     "data": {
      "image/png": "[encoded data removed]",
      "text/plain": [
       "<Figure size 432x288 with 1 Axes>"
      ]
     },
     "metadata": {
      "needs_background": "light"
     },
     "output_type": "display_data"
    }
   ],
   "source": [
    "# le niveau d'éducation de la mère de l'élève\n",
    "\n",
    "sns.countplot(x=\"Medu\", data=data)"
   ]
  },
  {
   "cell_type": "markdown",
   "id": "feb4ebe3",
   "metadata": {},
   "source": [
    "#### Nous pouvons en déduire que les mamans de ces élèves ont généralement fait des études assez poussées parce que 58% d'entre elles ont un niveau d'étude supérieur ou égal aux études secondaires.\n",
    "\n",
    "#### Est-ce que le niveau d'étude de la mère va impacter sur les scolaires de l'élève?\n",
    "\n",
    "# "
   ]
  },
  {
   "cell_type": "code",
   "execution_count": 11,
   "id": "d81e0630",
   "metadata": {
    "scrolled": true
   },
   "outputs": [
    {
     "data": {
      "text/plain": [
       "<AxesSubplot:xlabel='Fedu', ylabel='count'>"
      ]
     },
     "execution_count": 11,
     "metadata": {},
     "output_type": "execute_result"
    },
    {
     "data": {
      "image/png": "[encoded data removed]",
      "text/plain": [
       "<Figure size 432x288 with 1 Axes>"
      ]
     },
     "metadata": {
      "needs_background": "light"
     },
     "output_type": "display_data"
    }
   ],
   "source": [
    "# le niveau d'éducation du père de l'élève\n",
    "\n",
    "sns.countplot(x=\"Fedu\", data=data)"
   ]
  },
  {
   "cell_type": "markdown",
   "id": "8ab84e8b",
   "metadata": {},
   "source": [
    "#### Ici, nous pouvons souligner que le niveau d'étude des papas de ces élèves n'est pas généralement assez poussé car un peu plus de 50% d'entre eux n'ont pas atteind les études secondaires.\n",
    "\n",
    "#### Cela aura-il un effet sur la performance des élèves?\n",
    "\n",
    "# "
   ]
  },
  {
   "cell_type": "code",
   "execution_count": 12,
   "id": "fa647ee5",
   "metadata": {
    "scrolled": false
   },
   "outputs": [
    {
     "data": {
      "text/plain": [
       "<AxesSubplot:xlabel='reason', ylabel='count'>"
      ]
     },
     "execution_count": 12,
     "metadata": {},
     "output_type": "execute_result"
    },
    {
     "data": {
      "image/png": "[encoded data removed]",
      "text/plain": [
       "<Figure size 432x288 with 1 Axes>"
      ]
     },
     "metadata": {
      "needs_background": "light"
     },
     "output_type": "display_data"
    }
   ],
   "source": [
    "# la raison davoir choisi cette école\n",
    "\n",
    "sns.countplot(x=\"reason\", data=data)"
   ]
  },
  {
   "cell_type": "markdown",
   "id": "4a242a04",
   "metadata": {},
   "source": [
    "#### L'analyse de ce graphique montre que:\n",
    "#### - 36% des élèves interviewés ont choisi leur école par préférence des cours qui y sont donnés,\n",
    "#### - 27% parce que l'école est proche de leurs maisons\n",
    "#### - 26% pour la réputation de l'école\n",
    "\n",
    "\n",
    "# "
   ]
  },
  {
   "cell_type": "code",
   "execution_count": 13,
   "id": "76746e5c",
   "metadata": {
    "scrolled": true
   },
   "outputs": [
    {
     "data": {
      "text/plain": [
       "<AxesSubplot:xlabel='studytime', ylabel='count'>"
      ]
     },
     "execution_count": 13,
     "metadata": {},
     "output_type": "execute_result"
    },
    {
     "data": {
      "image/png": "[encoded data removed]",
      "text/plain": [
       "<Figure size 432x288 with 1 Axes>"
      ]
     },
     "metadata": {
      "needs_background": "light"
     },
     "output_type": "display_data"
    }
   ],
   "source": [
    "# le temps hebdomadaire consacré aux études par l'élève\n",
    "\n",
    "sns.countplot(x=\"studytime\", data=data)"
   ]
  },
  {
   "cell_type": "markdown",
   "id": "35b519c1",
   "metadata": {},
   "source": [
    "#### Le temps d'étude n'est pas très important puisque 76% de ces élèves n'étudient que 2 à 5 heures de temps par semaine.\n",
    "\n",
    "#### Cela est dû à la souplesse du programme ou au niveau des élèves?\n",
    "\n",
    "# "
   ]
  },
  {
   "cell_type": "code",
   "execution_count": 14,
   "id": "02149b8b",
   "metadata": {},
   "outputs": [
    {
     "data": {
      "text/plain": [
       "<AxesSubplot:xlabel='schoolsup', ylabel='count'>"
      ]
     },
     "execution_count": 14,
     "metadata": {},
     "output_type": "execute_result"
    },
    {
     "data": {
      "image/png": "[encoded data removed]",
      "text/plain": [
       "<Figure size 432x288 with 1 Axes>"
      ]
     },
     "metadata": {
      "needs_background": "light"
     },
     "output_type": "display_data"
    }
   ],
   "source": [
    "# soutien pédagogique supplémentaire de l'élève\n",
    "\n",
    "sns.countplot(x=\"schoolsup\", data=data)"
   ]
  },
  {
   "cell_type": "markdown",
   "id": "d166b799",
   "metadata": {},
   "source": [
    "#### Il n'y a que très peu d'élèves qui bénéficient d'un soutien pédagogique supplémentaire: soit 12%.\n",
    "\n",
    "#### Est-ce par manque de temps, de moyen ou de volonté?\n",
    "\n",
    "# "
   ]
  },
  {
   "cell_type": "code",
   "execution_count": 15,
   "id": "f2de52d9",
   "metadata": {},
   "outputs": [
    {
     "data": {
      "text/plain": [
       "<AxesSubplot:xlabel='higher', ylabel='count'>"
      ]
     },
     "execution_count": 15,
     "metadata": {},
     "output_type": "execute_result"
    },
    {
     "data": {
      "image/png": "[encoded data removed]",
      "text/plain": [
       "<Figure size 432x288 with 1 Axes>"
      ]
     },
     "metadata": {
      "needs_background": "light"
     },
     "output_type": "display_data"
    }
   ],
   "source": [
    "# désir de l'élève à continuer ses études à l'université\n",
    "\n",
    "sns.countplot(x=\"higher\", data=data)"
   ]
  },
  {
   "cell_type": "markdown",
   "id": "2e74b0ab",
   "metadata": {},
   "source": [
    "#### Près de 94% des élèves envisagent de poursuivre leurs études après le bac.\n",
    "\n",
    "#### Ce choix est-il influencé par les parents?\n",
    "\n",
    "# "
   ]
  },
  {
   "cell_type": "code",
   "execution_count": 16,
   "id": "83a3ad9a",
   "metadata": {},
   "outputs": [
    {
     "data": {
      "text/plain": [
       "<AxesSubplot:xlabel='internet', ylabel='count'>"
      ]
     },
     "execution_count": 16,
     "metadata": {},
     "output_type": "execute_result"
    },
    {
     "data": {
      "image/png": "[encoded data removed]",
      "text/plain": [
       "<Figure size 432x288 with 1 Axes>"
      ]
     },
     "metadata": {
      "needs_background": "light"
     },
     "output_type": "display_data"
    }
   ],
   "source": [
    "# accès de l'élève à l'internet à la maison\n",
    "\n",
    "sns.countplot(x=\"internet\", data=data)"
   ]
  },
  {
   "cell_type": "markdown",
   "id": "f1ade621",
   "metadata": {},
   "source": [
    "#### Les élèves qui ont accès à l'internet chez eux représentent près de 83% du nombre total des élèves.\n",
    "\n",
    "#### Cela est peut-être dû au fait que beaucoup d'entre eux habitent en ville.\n",
    "\n",
    "# "
   ]
  },
  {
   "cell_type": "code",
   "execution_count": 17,
   "id": "37599f49",
   "metadata": {},
   "outputs": [
    {
     "data": {
      "text/plain": [
       "<AxesSubplot:xlabel='Walc', ylabel='count'>"
      ]
     },
     "execution_count": 17,
     "metadata": {},
     "output_type": "execute_result"
    },
    {
     "data": {
      "image/png": "[encoded data removed]",
      "text/plain": [
       "<Figure size 432x288 with 1 Axes>"
      ]
     },
     "metadata": {
      "needs_background": "light"
     },
     "output_type": "display_data"
    }
   ],
   "source": [
    "# la consommation d'alcool de l'élève le week-end\n",
    "\n",
    "sns.countplot(x=\"Walc\", data=data)"
   ]
  },
  {
   "cell_type": "markdown",
   "id": "6bc6efcf",
   "metadata": {},
   "source": [
    "#### De manière générale, la consommation d'alcool pendant le week-end est assez faible.\n",
    "\n",
    "#### C'est peut-être parce que 71% de ces élèves ont moins de 18 ans. Ce qui limite un peu leur liberté de sortie.\n",
    "\n",
    "# "
   ]
  },
  {
   "cell_type": "code",
   "execution_count": 18,
   "id": "f3481f9b",
   "metadata": {},
   "outputs": [
    {
     "data": {
      "text/plain": [
       "<AxesSubplot:xlabel='absences', ylabel='count'>"
      ]
     },
     "execution_count": 18,
     "metadata": {},
     "output_type": "execute_result"
    },
    {
     "data": {
      "image/png": "[encoded data removed]",
      "text/plain": [
       "<Figure size 432x288 with 1 Axes>"
      ]
     },
     "metadata": {
      "needs_background": "light"
     },
     "output_type": "display_data"
    }
   ],
   "source": [
    "# le nombre d'absences scolaires de l'élève\n",
    "\n",
    "sns.countplot(x=\"absences\", data=data)"
   ]
  },
  {
   "cell_type": "markdown",
   "id": "8559406e",
   "metadata": {},
   "source": [
    "#### Le taux d'absences est assez faible de manière générale parce que 58% de ces élèves ont un nombre d'absences qui varie de 0 à 4.\n",
    "#### Mais il y a quand-même quelques uns qui ont un nombre très élevé d'absences comme celui qui 75 absences.\n",
    "\n",
    "#### Ce dernier était peut-être malade ou a abandonné en plein milieu de l'année scolaire.\n",
    "\n",
    "# "
   ]
  },
  {
   "cell_type": "code",
   "execution_count": 19,
   "id": "78e85f30",
   "metadata": {},
   "outputs": [
    {
     "data": {
      "text/plain": [
       "<AxesSubplot:xlabel='G1', ylabel='count'>"
      ]
     },
     "execution_count": 19,
     "metadata": {},
     "output_type": "execute_result"
    },
    {
     "data": {
      "image/png": "[encoded data removed]",
      "text/plain": [
       "<Figure size 432x288 with 1 Axes>"
      ]
     },
     "metadata": {
      "needs_background": "light"
     },
     "output_type": "display_data"
    }
   ],
   "source": [
    "# la première note de l'élève en mathématiques\n",
    "\n",
    "sns.countplot(x=\"G1\", data=data)"
   ]
  },
  {
   "cell_type": "markdown",
   "id": "d0552988",
   "metadata": {},
   "source": [
    "#### Les notes du premier trimestre varient de 3/20 à 19/20 avec un taux de 65% d'élèves qui ont eu la moyenne.\n",
    "\n",
    "#### Ces bons résultats ne seraient-ils pas le fruit d'un soutien des parents?\n",
    "\n",
    "# "
   ]
  },
  {
   "cell_type": "code",
   "execution_count": 20,
   "id": "a4792c8e",
   "metadata": {},
   "outputs": [
    {
     "data": {
      "text/plain": [
       "<AxesSubplot:xlabel='G2', ylabel='count'>"
      ]
     },
     "execution_count": 20,
     "metadata": {},
     "output_type": "execute_result"
    },
    {
     "data": {
      "image/png": "[encoded data removed]",
      "text/plain": [
       "<Figure size 432x288 with 1 Axes>"
      ]
     },
     "metadata": {
      "needs_background": "light"
     },
     "output_type": "display_data"
    }
   ],
   "source": [
    "# la deuxième note de l'élève en mathématiques\n",
    "\n",
    "sns.countplot(x=\"G2\", data=data)"
   ]
  },
  {
   "cell_type": "markdown",
   "id": "746a0e42",
   "metadata": {},
   "source": [
    "#### Les notes du deuxième trimestre sont de 0 à 19. Ceux qui ont eu la moyenne représentent, cette fois-ci, 63%.\n",
    "#### Ce qui est une légère baisse par rapport aux notes du premier trimestre.\n",
    "\n",
    "#### Ce relachement est au niveau des élèves ou des parents?\n",
    "\n",
    "# "
   ]
  },
  {
   "cell_type": "code",
   "execution_count": 21,
   "id": "c9410f78",
   "metadata": {},
   "outputs": [
    {
     "data": {
      "text/plain": [
       "<AxesSubplot:xlabel='G3', ylabel='count'>"
      ]
     },
     "execution_count": 21,
     "metadata": {},
     "output_type": "execute_result"
    },
    {
     "data": {
      "image/png": "[encoded data removed]",
      "text/plain": [
       "<Figure size 432x288 with 1 Axes>"
      ]
     },
     "metadata": {
      "needs_background": "light"
     },
     "output_type": "display_data"
    }
   ],
   "source": [
    "# la note finale de l'élève en mathématiques. Variable \"target\".\n",
    "\n",
    "sns.countplot(x=\"G3\", data=data)"
   ]
  },
  {
   "cell_type": "markdown",
   "id": "d545692a",
   "metadata": {},
   "source": [
    "#### Les notes finales des élèves varient entre 0 et 20. On remarque une nette augmentation du pourcentage de réussite qui est cette fois ci de 67%.\n",
    "\n",
    "#### Cette note représente la note de sortie. Est-ce pour cela que les élèves se sont donnés à fond ou y a t-il un autre facteur?\n",
    "\n",
    "# "
   ]
  },
  {
   "cell_type": "markdown",
   "id": "25719590",
   "metadata": {},
   "source": [
    "# \n",
    "\n",
    "\n",
    "**Visualisons les corrélations qui nous semblent les plus pertinentes entre les variables**"
   ]
  },
  {
   "cell_type": "code",
   "execution_count": 22,
   "id": "e28180ad",
   "metadata": {},
   "outputs": [
    {
     "data": {
      "text/plain": [
       "<AxesSubplot:xlabel='G3', ylabel='count'>"
      ]
     },
     "execution_count": 22,
     "metadata": {},
     "output_type": "execute_result"
    },
    {
     "data": {
      "image/png": "[encoded data removed]",
      "text/plain": [
       "<Figure size 432x288 with 1 Axes>"
      ]
     },
     "metadata": {
      "needs_background": "light"
     },
     "output_type": "display_data"
    }
   ],
   "source": [
    "# Entre le sexe de l'élève et la note de sortie.\n",
    "\n",
    "sns.countplot(x='G3', hue='sex', data=data)"
   ]
  },
  {
   "cell_type": "markdown",
   "id": "b57acdd0",
   "metadata": {},
   "source": [
    "##### Nous voyons que la différence n'est pas très grande entre les notes finales des garçons et celles des filles.\n",
    "\n",
    "# "
   ]
  },
  {
   "cell_type": "code",
   "execution_count": 23,
   "id": "1e1760f8",
   "metadata": {},
   "outputs": [
    {
     "data": {
      "text/plain": [
       "<AxesSubplot:xlabel='G3', ylabel='count'>"
      ]
     },
     "execution_count": 23,
     "metadata": {},
     "output_type": "execute_result"
    },
    {
     "data": {
      "image/png": "[encoded data removed]",
      "text/plain": [
       "<Figure size 432x288 with 1 Axes>"
      ]
     },
     "metadata": {
      "needs_background": "light"
     },
     "output_type": "display_data"
    }
   ],
   "source": [
    "# Entre l'adresse de l'élève et sa note de sortie.\n",
    "\n",
    "sns.countplot(x='G3', hue='address', data=data)"
   ]
  },
  {
   "cell_type": "markdown",
   "id": "ab8c9bc3",
   "metadata": {},
   "source": [
    "#### Les élèves issus du mileu urbain ont les meilleurs résultats. \n",
    "#### Cela est dû au fait que:\n",
    "#### - soit,les conditions de vie et de d'étude à la maison sont plus favorables dans les villes que dans la campagne\n",
    "#### - soit, le nombre d'élèves venus du milieu urbain dépasse largement celui de ceux issus du milieu rural. Cela influence les résultats.\n",
    "\n",
    "# "
   ]
  },
  {
   "cell_type": "code",
   "execution_count": 24,
   "id": "ea846f63",
   "metadata": {
    "scrolled": true
   },
   "outputs": [
    {
     "data": {
      "text/plain": [
       "<AxesSubplot:xlabel='G3', ylabel='count'>"
      ]
     },
     "execution_count": 24,
     "metadata": {},
     "output_type": "execute_result"
    },
    {
     "data": {
      "image/png": "[encoded data removed]",
      "text/plain": [
       "<Figure size 432x288 with 1 Axes>"
      ]
     },
     "metadata": {
      "needs_background": "light"
     },
     "output_type": "display_data"
    }
   ],
   "source": [
    "sns.countplot(x='G3', hue='Medu', data=data)"
   ]
  },
  {
   "cell_type": "markdown",
   "id": "f8e8214c",
   "metadata": {},
   "source": [
    "#### On voit clairement que le niveau d'étude de la maman a une forte influence sur la note d l'élève\n",
    "#### parce que le graphique montre que ceux qui ont eu plus de grandes notes des mamans qui ont un niveau d'étude allant du secondaire à l'université.\n",
    "#### Donc, plus la maman est instruite, plus elle apporte un soutien à son enfant.\n",
    "\n",
    "# "
   ]
  },
  {
   "cell_type": "code",
   "execution_count": 25,
   "id": "8a27c503",
   "metadata": {
    "scrolled": true
   },
   "outputs": [
    {
     "data": {
      "text/plain": [
       "<AxesSubplot:xlabel='Medu', ylabel='count'>"
      ]
     },
     "execution_count": 25,
     "metadata": {},
     "output_type": "execute_result"
    },
    {
     "data": {
      "image/png": "[encoded data removed]",
      "text/plain": [
       "<Figure size 432x288 with 1 Axes>"
      ]
     },
     "metadata": {
      "needs_background": "light"
     },
     "output_type": "display_data"
    }
   ],
   "source": [
    "sns.countplot(x='Medu', hue='famsup', data=data)"
   ]
  },
  {
   "cell_type": "markdown",
   "id": "2d463eb2",
   "metadata": {},
   "source": [
    "#### Ce graphique confirme notre hypothèse selon laquelle les femmes qui ont un niveau élevé d'étude sont celles qui apportent plus de soutien à leurs enfants.\n",
    "\n",
    "# "
   ]
  },
  {
   "cell_type": "code",
   "execution_count": 26,
   "id": "9dcd65d6",
   "metadata": {
    "scrolled": false
   },
   "outputs": [
    {
     "data": {
      "text/plain": [
       "<AxesSubplot:xlabel='G3', ylabel='count'>"
      ]
     },
     "execution_count": 26,
     "metadata": {},
     "output_type": "execute_result"
    },
    {
     "data": {
      "image/png": "[encoded data removed]",
      "text/plain": [
       "<Figure size 432x288 with 1 Axes>"
      ]
     },
     "metadata": {
      "needs_background": "light"
     },
     "output_type": "display_data"
    }
   ],
   "source": [
    "sns.countplot(x='G3', hue='Fedu', data=data)"
   ]
  },
  {
   "cell_type": "markdown",
   "id": "0285acc4",
   "metadata": {},
   "source": [
    "#### Le niveau d'étude du père n'a pas un très fort effet sur la scolarisation de l'enfant.\n",
    "#### Peut-être parce les papas n'ont pas beaucoup de temps à leur consacrer du fait des exigences du boulot.\n",
    "\n",
    "# "
   ]
  },
  {
   "cell_type": "code",
   "execution_count": 27,
   "id": "cdc6a7ab",
   "metadata": {
    "scrolled": true
   },
   "outputs": [
    {
     "data": {
      "text/plain": [
       "<AxesSubplot:xlabel='G3', ylabel='count'>"
      ]
     },
     "execution_count": 27,
     "metadata": {},
     "output_type": "execute_result"
    },
    {
     "data": {
      "image/png": "[encoded data removed]",
      "text/plain": [
       "<Figure size 432x288 with 1 Axes>"
      ]
     },
     "metadata": {
      "needs_background": "light"
     },
     "output_type": "display_data"
    }
   ],
   "source": [
    "sns.countplot(x='G3', hue='studytime', data=data)"
   ]
  },
  {
   "cell_type": "markdown",
   "id": "924314ca",
   "metadata": {},
   "source": [
    "#### Le temps d'étude joue sur la note finale de l'élève. Ce graphique nous montre que ce sont les élèves qui observent un temps d'étude\n",
    "#### de 2 à 5 heures par semaine qui ont tendance à décrocher les meilleures notes.\n",
    "\n",
    "#### Ce sont peut-être des élèves avec un fort niveau de compréhension ou un bon soutien à la maison.\n",
    "\n",
    "# "
   ]
  },
  {
   "cell_type": "code",
   "execution_count": 28,
   "id": "d894d8ac",
   "metadata": {
    "scrolled": true
   },
   "outputs": [
    {
     "data": {
      "text/plain": [
       "<AxesSubplot:xlabel='G3', ylabel='count'>"
      ]
     },
     "execution_count": 28,
     "metadata": {},
     "output_type": "execute_result"
    },
    {
     "data": {
      "image/png": "[encoded data removed]",
      "text/plain": [
       "<Figure size 432x288 with 1 Axes>"
      ]
     },
     "metadata": {
      "needs_background": "light"
     },
     "output_type": "display_data"
    }
   ],
   "source": [
    "sns.countplot(x='G3', hue='higher', data=data)"
   ]
  },
  {
   "cell_type": "markdown",
   "id": "553b426c",
   "metadata": {},
   "source": [
    "#### Ce graphique nous montre que le fait de désirer continuer ses études ou non joue fortement sur les notes de l'élève.\n",
    "#### En effet, un élève qui compte aller à l'université donnera plus de lui-même pour réussir que quelqu'un qui pense à arrêter ses études.\n",
    "\n",
    "# "
   ]
  },
  {
   "cell_type": "code",
   "execution_count": 29,
   "id": "3ddc604c",
   "metadata": {},
   "outputs": [
    {
     "data": {
      "text/plain": [
       "<AxesSubplot:xlabel='Fedu', ylabel='count'>"
      ]
     },
     "execution_count": 29,
     "metadata": {},
     "output_type": "execute_result"
    },
    {
     "data": {
      "image/png": "[encoded data removed]",
      "text/plain": [
       "<Figure size 432x288 with 1 Axes>"
      ]
     },
     "metadata": {
      "needs_background": "light"
     },
     "output_type": "display_data"
    }
   ],
   "source": [
    "sns.countplot(x='Fedu', hue='higher', data=data)"
   ]
  },
  {
   "cell_type": "markdown",
   "id": "5da500ea",
   "metadata": {},
   "source": [
    "#### Ici, nous voyons que plus le niveau d'étude du père est élevé, plus l'élève a de chance de souhaiter continuer ses études.\n",
    "#### Cela peut s'expliquer par le fait que le papa a fortement influencé ce choix.\n",
    "\n",
    "# "
   ]
  },
  {
   "cell_type": "code",
   "execution_count": 30,
   "id": "199195b3",
   "metadata": {
    "scrolled": true
   },
   "outputs": [
    {
     "data": {
      "text/plain": [
       "<AxesSubplot:xlabel='G3', ylabel='count'>"
      ]
     },
     "execution_count": 30,
     "metadata": {},
     "output_type": "execute_result"
    },
    {
     "data": {
      "image/png": "[encoded data removed]",
      "text/plain": [
       "<Figure size 432x288 with 1 Axes>"
      ]
     },
     "metadata": {
      "needs_background": "light"
     },
     "output_type": "display_data"
    }
   ],
   "source": [
    "sns.countplot(x='G3', hue='internet', data=data)"
   ]
  },
  {
   "cell_type": "markdown",
   "id": "cfabee32",
   "metadata": {},
   "source": [
    "#### Ce diagramme nous montre que l'accès à l'internet à la maison, s'il est bien encadré, participe fortement à l'amélioration de la note de l'éleve.\n",
    "\n",
    "# "
   ]
  },
  {
   "cell_type": "markdown",
   "id": "d308e379",
   "metadata": {},
   "source": [
    "# \n",
    "\n",
    "**La corrélation entre toutes les différentes variables**"
   ]
  },
  {
   "cell_type": "code",
   "execution_count": 31,
   "id": "2f1dcede",
   "metadata": {
    "scrolled": true
   },
   "outputs": [
    {
     "data": {
      "text/html": [
       "<div>\n",
       "<style scoped>\n",
       "    .dataframe tbody tr th:only-of-type {\n",
       "        vertical-align: middle;\n",
       "    }\n",
       "\n",
       "    .dataframe tbody tr th {\n",
       "        vertical-align: top;\n",
       "    }\n",
       "\n",
       "    .dataframe thead th {\n",
       "        text-align: right;\n",
       "    }\n",
       "</style>\n",
       "<table border=\"1\" class=\"dataframe\">\n",
       "  <thead>\n",
       "    <tr style=\"text-align: right;\">\n",
       "      <th></th>\n",
       "      <th>school</th>\n",
       "      <th>sex</th>\n",
       "      <th>age</th>\n",
       "      <th>address</th>\n",
       "      <th>famsize</th>\n",
       "      <th>Pstatus</th>\n",
       "      <th>Medu</th>\n",
       "      <th>Fedu</th>\n",
       "      <th>Mjob</th>\n",
       "      <th>Fjob</th>\n",
       "      <th>...</th>\n",
       "      <th>famrel</th>\n",
       "      <th>freetime</th>\n",
       "      <th>goout</th>\n",
       "      <th>Dalc</th>\n",
       "      <th>Walc</th>\n",
       "      <th>health</th>\n",
       "      <th>absences</th>\n",
       "      <th>G1</th>\n",
       "      <th>G2</th>\n",
       "      <th>G3</th>\n",
       "    </tr>\n",
       "  </thead>\n",
       "  <tbody>\n",
       "    <tr>\n",
       "      <th>school</th>\n",
       "      <td>1.000000</td>\n",
       "      <td>-0.012286</td>\n",
       "      <td>0.377610</td>\n",
       "      <td>-0.279797</td>\n",
       "      <td>-0.064866</td>\n",
       "      <td>0.045923</td>\n",
       "      <td>-0.133333</td>\n",
       "      <td>-0.079807</td>\n",
       "      <td>-0.017961</td>\n",
       "      <td>-0.030658</td>\n",
       "      <td>...</td>\n",
       "      <td>-0.047926</td>\n",
       "      <td>0.032988</td>\n",
       "      <td>-0.007152</td>\n",
       "      <td>0.114209</td>\n",
       "      <td>0.065087</td>\n",
       "      <td>-0.042651</td>\n",
       "      <td>-0.088480</td>\n",
       "      <td>-0.025731</td>\n",
       "      <td>-0.050086</td>\n",
       "      <td>-0.045017</td>\n",
       "    </tr>\n",
       "    <tr>\n",
       "      <th>sex</th>\n",
       "      <td>-0.012286</td>\n",
       "      <td>1.000000</td>\n",
       "      <td>-0.028606</td>\n",
       "      <td>-0.028504</td>\n",
       "      <td>-0.089862</td>\n",
       "      <td>0.023443</td>\n",
       "      <td>0.078228</td>\n",
       "      <td>0.034878</td>\n",
       "      <td>0.038205</td>\n",
       "      <td>0.051778</td>\n",
       "      <td>...</td>\n",
       "      <td>0.058971</td>\n",
       "      <td>0.238744</td>\n",
       "      <td>0.075897</td>\n",
       "      <td>0.268171</td>\n",
       "      <td>0.274194</td>\n",
       "      <td>0.143588</td>\n",
       "      <td>-0.066962</td>\n",
       "      <td>0.091839</td>\n",
       "      <td>0.091099</td>\n",
       "      <td>0.103456</td>\n",
       "    </tr>\n",
       "    <tr>\n",
       "      <th>age</th>\n",
       "      <td>0.377610</td>\n",
       "      <td>-0.028606</td>\n",
       "      <td>1.000000</td>\n",
       "      <td>-0.146722</td>\n",
       "      <td>-0.037847</td>\n",
       "      <td>0.029598</td>\n",
       "      <td>-0.163658</td>\n",
       "      <td>-0.163438</td>\n",
       "      <td>-0.010162</td>\n",
       "      <td>0.008021</td>\n",
       "      <td>...</td>\n",
       "      <td>0.053940</td>\n",
       "      <td>0.016434</td>\n",
       "      <td>0.126964</td>\n",
       "      <td>0.131125</td>\n",
       "      <td>0.117276</td>\n",
       "      <td>-0.062187</td>\n",
       "      <td>0.175230</td>\n",
       "      <td>-0.064081</td>\n",
       "      <td>-0.143474</td>\n",
       "      <td>-0.161579</td>\n",
       "    </tr>\n",
       "    <tr>\n",
       "      <th>address</th>\n",
       "      <td>-0.279797</td>\n",
       "      <td>-0.028504</td>\n",
       "      <td>-0.146722</td>\n",
       "      <td>1.000000</td>\n",
       "      <td>-0.072472</td>\n",
       "      <td>-0.042572</td>\n",
       "      <td>0.138804</td>\n",
       "      <td>0.072178</td>\n",
       "      <td>0.064527</td>\n",
       "      <td>-0.047740</td>\n",
       "      <td>...</td>\n",
       "      <td>0.014258</td>\n",
       "      <td>0.034878</td>\n",
       "      <td>0.068835</td>\n",
       "      <td>-0.093494</td>\n",
       "      <td>-0.101126</td>\n",
       "      <td>-0.040355</td>\n",
       "      <td>-0.027874</td>\n",
       "      <td>0.069704</td>\n",
       "      <td>0.126037</td>\n",
       "      <td>0.105756</td>\n",
       "    </tr>\n",
       "    <tr>\n",
       "      <th>famsize</th>\n",
       "      <td>-0.064866</td>\n",
       "      <td>-0.089862</td>\n",
       "      <td>-0.037847</td>\n",
       "      <td>-0.072472</td>\n",
       "      <td>1.000000</td>\n",
       "      <td>0.149612</td>\n",
       "      <td>0.043068</td>\n",
       "      <td>0.058879</td>\n",
       "      <td>0.031677</td>\n",
       "      <td>-0.003049</td>\n",
       "      <td>...</td>\n",
       "      <td>0.022776</td>\n",
       "      <td>-0.017695</td>\n",
       "      <td>-0.023064</td>\n",
       "      <td>-0.101521</td>\n",
       "      <td>-0.103425</td>\n",
       "      <td>0.028992</td>\n",
       "      <td>-0.035783</td>\n",
       "      <td>-0.071445</td>\n",
       "      <td>-0.081223</td>\n",
       "      <td>-0.081407</td>\n",
       "    </tr>\n",
       "    <tr>\n",
       "      <th>Pstatus</th>\n",
       "      <td>0.045923</td>\n",
       "      <td>0.023443</td>\n",
       "      <td>0.029598</td>\n",
       "      <td>-0.042572</td>\n",
       "      <td>0.149612</td>\n",
       "      <td>1.000000</td>\n",
       "      <td>-0.123565</td>\n",
       "      <td>-0.088730</td>\n",
       "      <td>-0.075274</td>\n",
       "      <td>0.053881</td>\n",
       "      <td>...</td>\n",
       "      <td>0.025179</td>\n",
       "      <td>0.038717</td>\n",
       "      <td>0.003459</td>\n",
       "      <td>-0.030590</td>\n",
       "      <td>0.006045</td>\n",
       "      <td>0.022307</td>\n",
       "      <td>-0.134937</td>\n",
       "      <td>-0.016868</td>\n",
       "      <td>-0.041382</td>\n",
       "      <td>-0.058009</td>\n",
       "    </tr>\n",
       "    <tr>\n",
       "      <th>Medu</th>\n",
       "      <td>-0.133333</td>\n",
       "      <td>0.078228</td>\n",
       "      <td>-0.163658</td>\n",
       "      <td>0.138804</td>\n",
       "      <td>0.043068</td>\n",
       "      <td>-0.123565</td>\n",
       "      <td>1.000000</td>\n",
       "      <td>0.623455</td>\n",
       "      <td>-0.054629</td>\n",
       "      <td>-0.139394</td>\n",
       "      <td>...</td>\n",
       "      <td>-0.003914</td>\n",
       "      <td>0.030891</td>\n",
       "      <td>0.064094</td>\n",
       "      <td>0.019834</td>\n",
       "      <td>-0.047123</td>\n",
       "      <td>-0.046878</td>\n",
       "      <td>0.100285</td>\n",
       "      <td>0.205341</td>\n",
       "      <td>0.215527</td>\n",
       "      <td>0.217147</td>\n",
       "    </tr>\n",
       "    <tr>\n",
       "      <th>Fedu</th>\n",
       "      <td>-0.079807</td>\n",
       "      <td>0.034878</td>\n",
       "      <td>-0.163438</td>\n",
       "      <td>0.072178</td>\n",
       "      <td>0.058879</td>\n",
       "      <td>-0.088730</td>\n",
       "      <td>0.623455</td>\n",
       "      <td>1.000000</td>\n",
       "      <td>-0.115887</td>\n",
       "      <td>-0.278106</td>\n",
       "      <td>...</td>\n",
       "      <td>-0.001370</td>\n",
       "      <td>-0.012846</td>\n",
       "      <td>0.043105</td>\n",
       "      <td>0.002386</td>\n",
       "      <td>-0.012631</td>\n",
       "      <td>0.014742</td>\n",
       "      <td>0.024473</td>\n",
       "      <td>0.190270</td>\n",
       "      <td>0.164893</td>\n",
       "      <td>0.152457</td>\n",
       "    </tr>\n",
       "    <tr>\n",
       "      <th>Mjob</th>\n",
       "      <td>-0.017961</td>\n",
       "      <td>0.038205</td>\n",
       "      <td>-0.010162</td>\n",
       "      <td>0.064527</td>\n",
       "      <td>0.031677</td>\n",
       "      <td>-0.075274</td>\n",
       "      <td>-0.054629</td>\n",
       "      <td>-0.115887</td>\n",
       "      <td>1.000000</td>\n",
       "      <td>0.169553</td>\n",
       "      <td>...</td>\n",
       "      <td>0.051328</td>\n",
       "      <td>0.022125</td>\n",
       "      <td>0.028317</td>\n",
       "      <td>0.031940</td>\n",
       "      <td>-0.026624</td>\n",
       "      <td>0.044887</td>\n",
       "      <td>0.060409</td>\n",
       "      <td>-0.072842</td>\n",
       "      <td>-0.003311</td>\n",
       "      <td>0.002725</td>\n",
       "    </tr>\n",
       "    <tr>\n",
       "      <th>Fjob</th>\n",
       "      <td>-0.030658</td>\n",
       "      <td>0.051778</td>\n",
       "      <td>0.008021</td>\n",
       "      <td>-0.047740</td>\n",
       "      <td>-0.003049</td>\n",
       "      <td>0.053881</td>\n",
       "      <td>-0.139394</td>\n",
       "      <td>-0.278106</td>\n",
       "      <td>0.169553</td>\n",
       "      <td>1.000000</td>\n",
       "      <td>...</td>\n",
       "      <td>0.070631</td>\n",
       "      <td>-0.013501</td>\n",
       "      <td>0.058227</td>\n",
       "      <td>-0.014868</td>\n",
       "      <td>0.149048</td>\n",
       "      <td>-0.014234</td>\n",
       "      <td>0.037076</td>\n",
       "      <td>-0.165043</td>\n",
       "      <td>-0.086116</td>\n",
       "      <td>-0.069639</td>\n",
       "    </tr>\n",
       "    <tr>\n",
       "      <th>reason</th>\n",
       "      <td>0.034400</td>\n",
       "      <td>-0.066026</td>\n",
       "      <td>-0.007090</td>\n",
       "      <td>-0.135483</td>\n",
       "      <td>0.015666</td>\n",
       "      <td>0.027111</td>\n",
       "      <td>0.059458</td>\n",
       "      <td>0.018750</td>\n",
       "      <td>-0.033132</td>\n",
       "      <td>-0.040147</td>\n",
       "      <td>...</td>\n",
       "      <td>-0.006681</td>\n",
       "      <td>0.040628</td>\n",
       "      <td>-0.025297</td>\n",
       "      <td>0.028239</td>\n",
       "      <td>0.015140</td>\n",
       "      <td>-0.063677</td>\n",
       "      <td>-0.022056</td>\n",
       "      <td>0.050731</td>\n",
       "      <td>0.065102</td>\n",
       "      <td>0.087318</td>\n",
       "    </tr>\n",
       "    <tr>\n",
       "      <th>guardian</th>\n",
       "      <td>0.075705</td>\n",
       "      <td>-0.015285</td>\n",
       "      <td>0.269479</td>\n",
       "      <td>0.070318</td>\n",
       "      <td>0.030443</td>\n",
       "      <td>0.026053</td>\n",
       "      <td>-0.133291</td>\n",
       "      <td>-0.004840</td>\n",
       "      <td>0.099632</td>\n",
       "      <td>-0.047640</td>\n",
       "      <td>...</td>\n",
       "      <td>0.029403</td>\n",
       "      <td>0.051133</td>\n",
       "      <td>-0.063963</td>\n",
       "      <td>0.053660</td>\n",
       "      <td>-0.024387</td>\n",
       "      <td>-0.001102</td>\n",
       "      <td>0.043493</td>\n",
       "      <td>-0.004788</td>\n",
       "      <td>-0.021254</td>\n",
       "      <td>-0.054193</td>\n",
       "    </tr>\n",
       "    <tr>\n",
       "      <th>traveltime</th>\n",
       "      <td>0.242308</td>\n",
       "      <td>0.059722</td>\n",
       "      <td>0.070641</td>\n",
       "      <td>-0.328096</td>\n",
       "      <td>-0.063493</td>\n",
       "      <td>0.028265</td>\n",
       "      <td>-0.171639</td>\n",
       "      <td>-0.158194</td>\n",
       "      <td>-0.051154</td>\n",
       "      <td>0.097780</td>\n",
       "      <td>...</td>\n",
       "      <td>-0.016808</td>\n",
       "      <td>-0.017025</td>\n",
       "      <td>0.028540</td>\n",
       "      <td>0.138325</td>\n",
       "      <td>0.134116</td>\n",
       "      <td>0.007501</td>\n",
       "      <td>-0.012944</td>\n",
       "      <td>-0.093040</td>\n",
       "      <td>-0.153198</td>\n",
       "      <td>-0.117142</td>\n",
       "    </tr>\n",
       "    <tr>\n",
       "      <th>studytime</th>\n",
       "      <td>-0.090681</td>\n",
       "      <td>-0.306268</td>\n",
       "      <td>-0.004140</td>\n",
       "      <td>-0.020912</td>\n",
       "      <td>0.073595</td>\n",
       "      <td>0.024294</td>\n",
       "      <td>0.064944</td>\n",
       "      <td>-0.009175</td>\n",
       "      <td>-0.019365</td>\n",
       "      <td>-0.031420</td>\n",
       "      <td>...</td>\n",
       "      <td>0.039731</td>\n",
       "      <td>-0.143198</td>\n",
       "      <td>-0.063904</td>\n",
       "      <td>-0.196019</td>\n",
       "      <td>-0.253785</td>\n",
       "      <td>-0.075616</td>\n",
       "      <td>-0.062700</td>\n",
       "      <td>0.160612</td>\n",
       "      <td>0.135880</td>\n",
       "      <td>0.097820</td>\n",
       "    </tr>\n",
       "    <tr>\n",
       "      <th>failures</th>\n",
       "      <td>0.059804</td>\n",
       "      <td>0.044436</td>\n",
       "      <td>0.243665</td>\n",
       "      <td>-0.078578</td>\n",
       "      <td>0.015769</td>\n",
       "      <td>-0.003339</td>\n",
       "      <td>-0.236680</td>\n",
       "      <td>-0.250408</td>\n",
       "      <td>0.049150</td>\n",
       "      <td>0.008757</td>\n",
       "      <td>...</td>\n",
       "      <td>-0.044337</td>\n",
       "      <td>0.091987</td>\n",
       "      <td>0.124561</td>\n",
       "      <td>0.136047</td>\n",
       "      <td>0.141962</td>\n",
       "      <td>0.065827</td>\n",
       "      <td>0.063726</td>\n",
       "      <td>-0.354718</td>\n",
       "      <td>-0.355896</td>\n",
       "      <td>-0.360415</td>\n",
       "    </tr>\n",
       "    <tr>\n",
       "      <th>schoolsup</th>\n",
       "      <td>-0.139789</td>\n",
       "      <td>-0.138271</td>\n",
       "      <td>-0.251811</td>\n",
       "      <td>0.024712</td>\n",
       "      <td>0.028642</td>\n",
       "      <td>-0.042238</td>\n",
       "      <td>-0.036029</td>\n",
       "      <td>0.037530</td>\n",
       "      <td>0.051532</td>\n",
       "      <td>-0.075806</td>\n",
       "      <td>...</td>\n",
       "      <td>-0.001345</td>\n",
       "      <td>-0.045465</td>\n",
       "      <td>-0.037698</td>\n",
       "      <td>-0.021485</td>\n",
       "      <td>-0.087152</td>\n",
       "      <td>-0.034124</td>\n",
       "      <td>0.022526</td>\n",
       "      <td>-0.212607</td>\n",
       "      <td>-0.117385</td>\n",
       "      <td>-0.082788</td>\n",
       "    </tr>\n",
       "    <tr>\n",
       "      <th>famsup</th>\n",
       "      <td>-0.164967</td>\n",
       "      <td>-0.151623</td>\n",
       "      <td>-0.140609</td>\n",
       "      <td>0.023903</td>\n",
       "      <td>0.112893</td>\n",
       "      <td>0.019067</td>\n",
       "      <td>0.183727</td>\n",
       "      <td>0.185496</td>\n",
       "      <td>-0.067456</td>\n",
       "      <td>-0.066605</td>\n",
       "      <td>...</td>\n",
       "      <td>-0.020436</td>\n",
       "      <td>0.010538</td>\n",
       "      <td>-0.015631</td>\n",
       "      <td>-0.031575</td>\n",
       "      <td>-0.086688</td>\n",
       "      <td>0.029297</td>\n",
       "      <td>0.024353</td>\n",
       "      <td>-0.084569</td>\n",
       "      <td>-0.059166</td>\n",
       "      <td>-0.039157</td>\n",
       "    </tr>\n",
       "    <tr>\n",
       "      <th>paid</th>\n",
       "      <td>-0.017083</td>\n",
       "      <td>-0.129126</td>\n",
       "      <td>-0.035933</td>\n",
       "      <td>0.052800</td>\n",
       "      <td>0.013882</td>\n",
       "      <td>0.046435</td>\n",
       "      <td>0.159700</td>\n",
       "      <td>0.086981</td>\n",
       "      <td>-0.075385</td>\n",
       "      <td>0.039554</td>\n",
       "      <td>...</td>\n",
       "      <td>0.000460</td>\n",
       "      <td>-0.064253</td>\n",
       "      <td>0.010493</td>\n",
       "      <td>0.062465</td>\n",
       "      <td>0.060454</td>\n",
       "      <td>-0.078132</td>\n",
       "      <td>0.007435</td>\n",
       "      <td>0.039079</td>\n",
       "      <td>0.105198</td>\n",
       "      <td>0.101996</td>\n",
       "    </tr>\n",
       "    <tr>\n",
       "      <th>activities</th>\n",
       "      <td>-0.116946</td>\n",
       "      <td>0.099833</td>\n",
       "      <td>-0.103063</td>\n",
       "      <td>-0.051360</td>\n",
       "      <td>0.000113</td>\n",
       "      <td>0.097352</td>\n",
       "      <td>0.108277</td>\n",
       "      <td>0.112643</td>\n",
       "      <td>-0.052984</td>\n",
       "      <td>-0.014279</td>\n",
       "      <td>...</td>\n",
       "      <td>0.040687</td>\n",
       "      <td>0.089728</td>\n",
       "      <td>0.046088</td>\n",
       "      <td>-0.066508</td>\n",
       "      <td>-0.037477</td>\n",
       "      <td>0.023923</td>\n",
       "      <td>-0.013610</td>\n",
       "      <td>0.057010</td>\n",
       "      <td>0.050552</td>\n",
       "      <td>0.016100</td>\n",
       "    </tr>\n",
       "    <tr>\n",
       "      <th>nursery</th>\n",
       "      <td>-0.089277</td>\n",
       "      <td>-0.008203</td>\n",
       "      <td>-0.086632</td>\n",
       "      <td>0.059589</td>\n",
       "      <td>-0.102088</td>\n",
       "      <td>-0.090615</td>\n",
       "      <td>0.193263</td>\n",
       "      <td>0.157177</td>\n",
       "      <td>-0.043340</td>\n",
       "      <td>-0.117531</td>\n",
       "      <td>...</td>\n",
       "      <td>-0.003581</td>\n",
       "      <td>-0.024696</td>\n",
       "      <td>0.004612</td>\n",
       "      <td>-0.084849</td>\n",
       "      <td>-0.099534</td>\n",
       "      <td>-0.018475</td>\n",
       "      <td>0.019155</td>\n",
       "      <td>0.069263</td>\n",
       "      <td>0.068146</td>\n",
       "      <td>0.051568</td>\n",
       "    </tr>\n",
       "    <tr>\n",
       "      <th>higher</th>\n",
       "      <td>-0.024150</td>\n",
       "      <td>-0.151056</td>\n",
       "      <td>-0.209081</td>\n",
       "      <td>0.042854</td>\n",
       "      <td>0.005806</td>\n",
       "      <td>-0.040735</td>\n",
       "      <td>0.168845</td>\n",
       "      <td>0.174566</td>\n",
       "      <td>0.051800</td>\n",
       "      <td>0.001025</td>\n",
       "      <td>...</td>\n",
       "      <td>0.024319</td>\n",
       "      <td>-0.061244</td>\n",
       "      <td>-0.039700</td>\n",
       "      <td>-0.069828</td>\n",
       "      <td>-0.100340</td>\n",
       "      <td>-0.015895</td>\n",
       "      <td>-0.056085</td>\n",
       "      <td>0.178264</td>\n",
       "      <td>0.179129</td>\n",
       "      <td>0.182465</td>\n",
       "    </tr>\n",
       "    <tr>\n",
       "      <th>internet</th>\n",
       "      <td>-0.133578</td>\n",
       "      <td>0.044113</td>\n",
       "      <td>-0.112094</td>\n",
       "      <td>0.216842</td>\n",
       "      <td>-0.000720</td>\n",
       "      <td>0.070074</td>\n",
       "      <td>0.201463</td>\n",
       "      <td>0.127507</td>\n",
       "      <td>0.073637</td>\n",
       "      <td>-0.014664</td>\n",
       "      <td>...</td>\n",
       "      <td>0.032768</td>\n",
       "      <td>0.051286</td>\n",
       "      <td>0.074370</td>\n",
       "      <td>0.036210</td>\n",
       "      <td>0.011687</td>\n",
       "      <td>-0.080189</td>\n",
       "      <td>0.101701</td>\n",
       "      <td>0.071619</td>\n",
       "      <td>0.119439</td>\n",
       "      <td>0.098483</td>\n",
       "    </tr>\n",
       "    <tr>\n",
       "      <th>romantic</th>\n",
       "      <td>0.060700</td>\n",
       "      <td>-0.102023</td>\n",
       "      <td>0.164669</td>\n",
       "      <td>0.005257</td>\n",
       "      <td>-0.034395</td>\n",
       "      <td>-0.040451</td>\n",
       "      <td>0.039681</td>\n",
       "      <td>0.015602</td>\n",
       "      <td>0.018863</td>\n",
       "      <td>-0.070869</td>\n",
       "      <td>...</td>\n",
       "      <td>-0.063816</td>\n",
       "      <td>-0.011182</td>\n",
       "      <td>0.007870</td>\n",
       "      <td>0.015121</td>\n",
       "      <td>-0.010141</td>\n",
       "      <td>0.026342</td>\n",
       "      <td>0.153384</td>\n",
       "      <td>-0.037188</td>\n",
       "      <td>-0.111774</td>\n",
       "      <td>-0.129970</td>\n",
       "    </tr>\n",
       "    <tr>\n",
       "      <th>famrel</th>\n",
       "      <td>-0.047926</td>\n",
       "      <td>0.058971</td>\n",
       "      <td>0.053940</td>\n",
       "      <td>0.014258</td>\n",
       "      <td>0.022776</td>\n",
       "      <td>0.025179</td>\n",
       "      <td>-0.003914</td>\n",
       "      <td>-0.001370</td>\n",
       "      <td>0.051328</td>\n",
       "      <td>0.070631</td>\n",
       "      <td>...</td>\n",
       "      <td>1.000000</td>\n",
       "      <td>0.150701</td>\n",
       "      <td>0.064568</td>\n",
       "      <td>-0.077594</td>\n",
       "      <td>-0.113397</td>\n",
       "      <td>0.094056</td>\n",
       "      <td>-0.044354</td>\n",
       "      <td>0.022168</td>\n",
       "      <td>-0.018281</td>\n",
       "      <td>0.051363</td>\n",
       "    </tr>\n",
       "    <tr>\n",
       "      <th>freetime</th>\n",
       "      <td>0.032988</td>\n",
       "      <td>0.238744</td>\n",
       "      <td>0.016434</td>\n",
       "      <td>0.034878</td>\n",
       "      <td>-0.017695</td>\n",
       "      <td>0.038717</td>\n",
       "      <td>0.030891</td>\n",
       "      <td>-0.012846</td>\n",
       "      <td>0.022125</td>\n",
       "      <td>-0.013501</td>\n",
       "      <td>...</td>\n",
       "      <td>0.150701</td>\n",
       "      <td>1.000000</td>\n",
       "      <td>0.285019</td>\n",
       "      <td>0.209001</td>\n",
       "      <td>0.147822</td>\n",
       "      <td>0.075733</td>\n",
       "      <td>-0.058078</td>\n",
       "      <td>0.012613</td>\n",
       "      <td>-0.013777</td>\n",
       "      <td>0.011307</td>\n",
       "    </tr>\n",
       "    <tr>\n",
       "      <th>goout</th>\n",
       "      <td>-0.007152</td>\n",
       "      <td>0.075897</td>\n",
       "      <td>0.126964</td>\n",
       "      <td>0.068835</td>\n",
       "      <td>-0.023064</td>\n",
       "      <td>0.003459</td>\n",
       "      <td>0.064094</td>\n",
       "      <td>0.043105</td>\n",
       "      <td>0.028317</td>\n",
       "      <td>0.058227</td>\n",
       "      <td>...</td>\n",
       "      <td>0.064568</td>\n",
       "      <td>0.285019</td>\n",
       "      <td>1.000000</td>\n",
       "      <td>0.266994</td>\n",
       "      <td>0.420386</td>\n",
       "      <td>-0.009577</td>\n",
       "      <td>0.044302</td>\n",
       "      <td>-0.149104</td>\n",
       "      <td>-0.162250</td>\n",
       "      <td>-0.132791</td>\n",
       "    </tr>\n",
       "    <tr>\n",
       "      <th>Dalc</th>\n",
       "      <td>0.114209</td>\n",
       "      <td>0.268171</td>\n",
       "      <td>0.131125</td>\n",
       "      <td>-0.093494</td>\n",
       "      <td>-0.101521</td>\n",
       "      <td>-0.030590</td>\n",
       "      <td>0.019834</td>\n",
       "      <td>0.002386</td>\n",
       "      <td>0.031940</td>\n",
       "      <td>-0.014868</td>\n",
       "      <td>...</td>\n",
       "      <td>-0.077594</td>\n",
       "      <td>0.209001</td>\n",
       "      <td>0.266994</td>\n",
       "      <td>1.000000</td>\n",
       "      <td>0.647544</td>\n",
       "      <td>0.077180</td>\n",
       "      <td>0.111908</td>\n",
       "      <td>-0.094159</td>\n",
       "      <td>-0.064120</td>\n",
       "      <td>-0.054660</td>\n",
       "    </tr>\n",
       "    <tr>\n",
       "      <th>Walc</th>\n",
       "      <td>0.065087</td>\n",
       "      <td>0.274194</td>\n",
       "      <td>0.117276</td>\n",
       "      <td>-0.101126</td>\n",
       "      <td>-0.103425</td>\n",
       "      <td>0.006045</td>\n",
       "      <td>-0.047123</td>\n",
       "      <td>-0.012631</td>\n",
       "      <td>-0.026624</td>\n",
       "      <td>0.149048</td>\n",
       "      <td>...</td>\n",
       "      <td>-0.113397</td>\n",
       "      <td>0.147822</td>\n",
       "      <td>0.420386</td>\n",
       "      <td>0.647544</td>\n",
       "      <td>1.000000</td>\n",
       "      <td>0.092476</td>\n",
       "      <td>0.136291</td>\n",
       "      <td>-0.126179</td>\n",
       "      <td>-0.084927</td>\n",
       "      <td>-0.051939</td>\n",
       "    </tr>\n",
       "    <tr>\n",
       "      <th>health</th>\n",
       "      <td>-0.042651</td>\n",
       "      <td>0.143588</td>\n",
       "      <td>-0.062187</td>\n",
       "      <td>-0.040355</td>\n",
       "      <td>0.028992</td>\n",
       "      <td>0.022307</td>\n",
       "      <td>-0.046878</td>\n",
       "      <td>0.014742</td>\n",
       "      <td>0.044887</td>\n",
       "      <td>-0.014234</td>\n",
       "      <td>...</td>\n",
       "      <td>0.094056</td>\n",
       "      <td>0.075733</td>\n",
       "      <td>-0.009577</td>\n",
       "      <td>0.077180</td>\n",
       "      <td>0.092476</td>\n",
       "      <td>1.000000</td>\n",
       "      <td>-0.029937</td>\n",
       "      <td>-0.073172</td>\n",
       "      <td>-0.097720</td>\n",
       "      <td>-0.061335</td>\n",
       "    </tr>\n",
       "    <tr>\n",
       "      <th>absences</th>\n",
       "      <td>-0.088480</td>\n",
       "      <td>-0.066962</td>\n",
       "      <td>0.175230</td>\n",
       "      <td>-0.027874</td>\n",
       "      <td>-0.035783</td>\n",
       "      <td>-0.134937</td>\n",
       "      <td>0.100285</td>\n",
       "      <td>0.024473</td>\n",
       "      <td>0.060409</td>\n",
       "      <td>0.037076</td>\n",
       "      <td>...</td>\n",
       "      <td>-0.044354</td>\n",
       "      <td>-0.058078</td>\n",
       "      <td>0.044302</td>\n",
       "      <td>0.111908</td>\n",
       "      <td>0.136291</td>\n",
       "      <td>-0.029937</td>\n",
       "      <td>1.000000</td>\n",
       "      <td>-0.031003</td>\n",
       "      <td>-0.031777</td>\n",
       "      <td>0.034247</td>\n",
       "    </tr>\n",
       "    <tr>\n",
       "      <th>G1</th>\n",
       "      <td>-0.025731</td>\n",
       "      <td>0.091839</td>\n",
       "      <td>-0.064081</td>\n",
       "      <td>0.069704</td>\n",
       "      <td>-0.071445</td>\n",
       "      <td>-0.016868</td>\n",
       "      <td>0.205341</td>\n",
       "      <td>0.190270</td>\n",
       "      <td>-0.072842</td>\n",
       "      <td>-0.165043</td>\n",
       "      <td>...</td>\n",
       "      <td>0.022168</td>\n",
       "      <td>0.012613</td>\n",
       "      <td>-0.149104</td>\n",
       "      <td>-0.094159</td>\n",
       "      <td>-0.126179</td>\n",
       "      <td>-0.073172</td>\n",
       "      <td>-0.031003</td>\n",
       "      <td>1.000000</td>\n",
       "      <td>0.852118</td>\n",
       "      <td>0.801468</td>\n",
       "    </tr>\n",
       "    <tr>\n",
       "      <th>G2</th>\n",
       "      <td>-0.050086</td>\n",
       "      <td>0.091099</td>\n",
       "      <td>-0.143474</td>\n",
       "      <td>0.126037</td>\n",
       "      <td>-0.081223</td>\n",
       "      <td>-0.041382</td>\n",
       "      <td>0.215527</td>\n",
       "      <td>0.164893</td>\n",
       "      <td>-0.003311</td>\n",
       "      <td>-0.086116</td>\n",
       "      <td>...</td>\n",
       "      <td>-0.018281</td>\n",
       "      <td>-0.013777</td>\n",
       "      <td>-0.162250</td>\n",
       "      <td>-0.064120</td>\n",
       "      <td>-0.084927</td>\n",
       "      <td>-0.097720</td>\n",
       "      <td>-0.031777</td>\n",
       "      <td>0.852118</td>\n",
       "      <td>1.000000</td>\n",
       "      <td>0.904868</td>\n",
       "    </tr>\n",
       "    <tr>\n",
       "      <th>G3</th>\n",
       "      <td>-0.045017</td>\n",
       "      <td>0.103456</td>\n",
       "      <td>-0.161579</td>\n",
       "      <td>0.105756</td>\n",
       "      <td>-0.081407</td>\n",
       "      <td>-0.058009</td>\n",
       "      <td>0.217147</td>\n",
       "      <td>0.152457</td>\n",
       "      <td>0.002725</td>\n",
       "      <td>-0.069639</td>\n",
       "      <td>...</td>\n",
       "      <td>0.051363</td>\n",
       "      <td>0.011307</td>\n",
       "      <td>-0.132791</td>\n",
       "      <td>-0.054660</td>\n",
       "      <td>-0.051939</td>\n",
       "      <td>-0.061335</td>\n",
       "      <td>0.034247</td>\n",
       "      <td>0.801468</td>\n",
       "      <td>0.904868</td>\n",
       "      <td>1.000000</td>\n",
       "    </tr>\n",
       "  </tbody>\n",
       "</table>\n",
       "<p>33 rows × 33 columns</p>\n",
       "</div>"
      ],
      "text/plain": [
       "              school       sex       age   address   famsize   Pstatus  \\\n",
       "school      1.000000 -0.012286  0.377610 -0.279797 -0.064866  0.045923   \n",
       "sex        -0.012286  1.000000 -0.028606 -0.028504 -0.089862  0.023443   \n",
       "age         0.377610 -0.028606  1.000000 -0.146722 -0.037847  0.029598   \n",
       "address    -0.279797 -0.028504 -0.146722  1.000000 -0.072472 -0.042572   \n",
       "famsize    -0.064866 -0.089862 -0.037847 -0.072472  1.000000  0.149612   \n",
       "Pstatus     0.045923  0.023443  0.029598 -0.042572  0.149612  1.000000   \n",
       "Medu       -0.133333  0.078228 -0.163658  0.138804  0.043068 -0.123565   \n",
       "Fedu       -0.079807  0.034878 -0.163438  0.072178  0.058879 -0.088730   \n",
       "Mjob       -0.017961  0.038205 -0.010162  0.064527  0.031677 -0.075274   \n",
       "Fjob       -0.030658  0.051778  0.008021 -0.047740 -0.003049  0.053881   \n",
       "reason      0.034400 -0.066026 -0.007090 -0.135483  0.015666  0.027111   \n",
       "guardian    0.075705 -0.015285  0.269479  0.070318  0.030443  0.026053   \n",
       "traveltime  0.242308  0.059722  0.070641 -0.328096 -0.063493  0.028265   \n",
       "studytime  -0.090681 -0.306268 -0.004140 -0.020912  0.073595  0.024294   \n",
       "failures    0.059804  0.044436  0.243665 -0.078578  0.015769 -0.003339   \n",
       "schoolsup  -0.139789 -0.138271 -0.251811  0.024712  0.028642 -0.042238   \n",
       "famsup     -0.164967 -0.151623 -0.140609  0.023903  0.112893  0.019067   \n",
       "paid       -0.017083 -0.129126 -0.035933  0.052800  0.013882  0.046435   \n",
       "activities -0.116946  0.099833 -0.103063 -0.051360  0.000113  0.097352   \n",
       "nursery    -0.089277 -0.008203 -0.086632  0.059589 -0.102088 -0.090615   \n",
       "higher     -0.024150 -0.151056 -0.209081  0.042854  0.005806 -0.040735   \n",
       "internet   -0.133578  0.044113 -0.112094  0.216842 -0.000720  0.070074   \n",
       "romantic    0.060700 -0.102023  0.164669  0.005257 -0.034395 -0.040451   \n",
       "famrel     -0.047926  0.058971  0.053940  0.014258  0.022776  0.025179   \n",
       "freetime    0.032988  0.238744  0.016434  0.034878 -0.017695  0.038717   \n",
       "goout      -0.007152  0.075897  0.126964  0.068835 -0.023064  0.003459   \n",
       "Dalc        0.114209  0.268171  0.131125 -0.093494 -0.101521 -0.030590   \n",
       "Walc        0.065087  0.274194  0.117276 -0.101126 -0.103425  0.006045   \n",
       "health     -0.042651  0.143588 -0.062187 -0.040355  0.028992  0.022307   \n",
       "absences   -0.088480 -0.066962  0.175230 -0.027874 -0.035783 -0.134937   \n",
       "G1         -0.025731  0.091839 -0.064081  0.069704 -0.071445 -0.016868   \n",
       "G2         -0.050086  0.091099 -0.143474  0.126037 -0.081223 -0.041382   \n",
       "G3         -0.045017  0.103456 -0.161579  0.105756 -0.081407 -0.058009   \n",
       "\n",
       "                Medu      Fedu      Mjob      Fjob  ...    famrel  freetime  \\\n",
       "school     -0.133333 -0.079807 -0.017961 -0.030658  ... -0.047926  0.032988   \n",
       "sex         0.078228  0.034878  0.038205  0.051778  ...  0.058971  0.238744   \n",
       "age        -0.163658 -0.163438 -0.010162  0.008021  ...  0.053940  0.016434   \n",
       "address     0.138804  0.072178  0.064527 -0.047740  ...  0.014258  0.034878   \n",
       "famsize     0.043068  0.058879  0.031677 -0.003049  ...  0.022776 -0.017695   \n",
       "Pstatus    -0.123565 -0.088730 -0.075274  0.053881  ...  0.025179  0.038717   \n",
       "Medu        1.000000  0.623455 -0.054629 -0.139394  ... -0.003914  0.030891   \n",
       "Fedu        0.623455  1.000000 -0.115887 -0.278106  ... -0.001370 -0.012846   \n",
       "Mjob       -0.054629 -0.115887  1.000000  0.169553  ...  0.051328  0.022125   \n",
       "Fjob       -0.139394 -0.278106  0.169553  1.000000  ...  0.070631 -0.013501   \n",
       "reason      0.059458  0.018750 -0.033132 -0.040147  ... -0.006681  0.040628   \n",
       "guardian   -0.133291 -0.004840  0.099632 -0.047640  ...  0.029403  0.051133   \n",
       "traveltime -0.171639 -0.158194 -0.051154  0.097780  ... -0.016808 -0.017025   \n",
       "studytime   0.064944 -0.009175 -0.019365 -0.031420  ...  0.039731 -0.143198   \n",
       "failures   -0.236680 -0.250408  0.049150  0.008757  ... -0.044337  0.091987   \n",
       "schoolsup  -0.036029  0.037530  0.051532 -0.075806  ... -0.001345 -0.045465   \n",
       "famsup      0.183727  0.185496 -0.067456 -0.066605  ... -0.020436  0.010538   \n",
       "paid        0.159700  0.086981 -0.075385  0.039554  ...  0.000460 -0.064253   \n",
       "activities  0.108277  0.112643 -0.052984 -0.014279  ...  0.040687  0.089728   \n",
       "nursery     0.193263  0.157177 -0.043340 -0.117531  ... -0.003581 -0.024696   \n",
       "higher      0.168845  0.174566  0.051800  0.001025  ...  0.024319 -0.061244   \n",
       "internet    0.201463  0.127507  0.073637 -0.014664  ...  0.032768  0.051286   \n",
       "romantic    0.039681  0.015602  0.018863 -0.070869  ... -0.063816 -0.011182   \n",
       "famrel     -0.003914 -0.001370  0.051328  0.070631  ...  1.000000  0.150701   \n",
       "freetime    0.030891 -0.012846  0.022125 -0.013501  ...  0.150701  1.000000   \n",
       "goout       0.064094  0.043105  0.028317  0.058227  ...  0.064568  0.285019   \n",
       "Dalc        0.019834  0.002386  0.031940 -0.014868  ... -0.077594  0.209001   \n",
       "Walc       -0.047123 -0.012631 -0.026624  0.149048  ... -0.113397  0.147822   \n",
       "health     -0.046878  0.014742  0.044887 -0.014234  ...  0.094056  0.075733   \n",
       "absences    0.100285  0.024473  0.060409  0.037076  ... -0.044354 -0.058078   \n",
       "G1          0.205341  0.190270 -0.072842 -0.165043  ...  0.022168  0.012613   \n",
       "G2          0.215527  0.164893 -0.003311 -0.086116  ... -0.018281 -0.013777   \n",
       "G3          0.217147  0.152457  0.002725 -0.069639  ...  0.051363  0.011307   \n",
       "\n",
       "               goout      Dalc      Walc    health  absences        G1  \\\n",
       "school     -0.007152  0.114209  0.065087 -0.042651 -0.088480 -0.025731   \n",
       "sex         0.075897  0.268171  0.274194  0.143588 -0.066962  0.091839   \n",
       "age         0.126964  0.131125  0.117276 -0.062187  0.175230 -0.064081   \n",
       "address     0.068835 -0.093494 -0.101126 -0.040355 -0.027874  0.069704   \n",
       "famsize    -0.023064 -0.101521 -0.103425  0.028992 -0.035783 -0.071445   \n",
       "Pstatus     0.003459 -0.030590  0.006045  0.022307 -0.134937 -0.016868   \n",
       "Medu        0.064094  0.019834 -0.047123 -0.046878  0.100285  0.205341   \n",
       "Fedu        0.043105  0.002386 -0.012631  0.014742  0.024473  0.190270   \n",
       "Mjob        0.028317  0.031940 -0.026624  0.044887  0.060409 -0.072842   \n",
       "Fjob        0.058227 -0.014868  0.149048 -0.014234  0.037076 -0.165043   \n",
       "reason     -0.025297  0.028239  0.015140 -0.063677 -0.022056  0.050731   \n",
       "guardian   -0.063963  0.053660 -0.024387 -0.001102  0.043493 -0.004788   \n",
       "traveltime  0.028540  0.138325  0.134116  0.007501 -0.012944 -0.093040   \n",
       "studytime  -0.063904 -0.196019 -0.253785 -0.075616 -0.062700  0.160612   \n",
       "failures    0.124561  0.136047  0.141962  0.065827  0.063726 -0.354718   \n",
       "schoolsup  -0.037698 -0.021485 -0.087152 -0.034124  0.022526 -0.212607   \n",
       "famsup     -0.015631 -0.031575 -0.086688  0.029297  0.024353 -0.084569   \n",
       "paid        0.010493  0.062465  0.060454 -0.078132  0.007435  0.039079   \n",
       "activities  0.046088 -0.066508 -0.037477  0.023923 -0.013610  0.057010   \n",
       "nursery     0.004612 -0.084849 -0.099534 -0.018475  0.019155  0.069263   \n",
       "higher     -0.039700 -0.069828 -0.100340 -0.015895 -0.056085  0.178264   \n",
       "internet    0.074370  0.036210  0.011687 -0.080189  0.101701  0.071619   \n",
       "romantic    0.007870  0.015121 -0.010141  0.026342  0.153384 -0.037188   \n",
       "famrel      0.064568 -0.077594 -0.113397  0.094056 -0.044354  0.022168   \n",
       "freetime    0.285019  0.209001  0.147822  0.075733 -0.058078  0.012613   \n",
       "goout       1.000000  0.266994  0.420386 -0.009577  0.044302 -0.149104   \n",
       "Dalc        0.266994  1.000000  0.647544  0.077180  0.111908 -0.094159   \n",
       "Walc        0.420386  0.647544  1.000000  0.092476  0.136291 -0.126179   \n",
       "health     -0.009577  0.077180  0.092476  1.000000 -0.029937 -0.073172   \n",
       "absences    0.044302  0.111908  0.136291 -0.029937  1.000000 -0.031003   \n",
       "G1         -0.149104 -0.094159 -0.126179 -0.073172 -0.031003  1.000000   \n",
       "G2         -0.162250 -0.064120 -0.084927 -0.097720 -0.031777  0.852118   \n",
       "G3         -0.132791 -0.054660 -0.051939 -0.061335  0.034247  0.801468   \n",
       "\n",
       "                  G2        G3  \n",
       "school     -0.050086 -0.045017  \n",
       "sex         0.091099  0.103456  \n",
       "age        -0.143474 -0.161579  \n",
       "address     0.126037  0.105756  \n",
       "famsize    -0.081223 -0.081407  \n",
       "Pstatus    -0.041382 -0.058009  \n",
       "Medu        0.215527  0.217147  \n",
       "Fedu        0.164893  0.152457  \n",
       "Mjob       -0.003311  0.002725  \n",
       "Fjob       -0.086116 -0.069639  \n",
       "reason      0.065102  0.087318  \n",
       "guardian   -0.021254 -0.054193  \n",
       "traveltime -0.153198 -0.117142  \n",
       "studytime   0.135880  0.097820  \n",
       "failures   -0.355896 -0.360415  \n",
       "schoolsup  -0.117385 -0.082788  \n",
       "famsup     -0.059166 -0.039157  \n",
       "paid        0.105198  0.101996  \n",
       "activities  0.050552  0.016100  \n",
       "nursery     0.068146  0.051568  \n",
       "higher      0.179129  0.182465  \n",
       "internet    0.119439  0.098483  \n",
       "romantic   -0.111774 -0.129970  \n",
       "famrel     -0.018281  0.051363  \n",
       "freetime   -0.013777  0.011307  \n",
       "goout      -0.162250 -0.132791  \n",
       "Dalc       -0.064120 -0.054660  \n",
       "Walc       -0.084927 -0.051939  \n",
       "health     -0.097720 -0.061335  \n",
       "absences   -0.031777  0.034247  \n",
       "G1          0.852118  0.801468  \n",
       "G2          1.000000  0.904868  \n",
       "G3          0.904868  1.000000  \n",
       "\n",
       "[33 rows x 33 columns]"
      ]
     },
     "execution_count": 31,
     "metadata": {},
     "output_type": "execute_result"
    }
   ],
   "source": [
    "cor = data.corr()\n",
    "cor"
   ]
  },
  {
   "cell_type": "code",
   "execution_count": 32,
   "id": "03747a42",
   "metadata": {},
   "outputs": [
    {
     "data": {
      "image/png": "[encoded data removed]",
      "text/plain": [
       "<Figure size 1440x1080 with 2 Axes>"
      ]
     },
     "metadata": {
      "needs_background": "light"
     },
     "output_type": "display_data"
    }
   ],
   "source": [
    "def plot_correlation_map(data):\n",
    "    corr=data.corr()\n",
    "    s, ax=plt.subplots(figsize=(20,15))\n",
    "    s=sns.heatmap(corr,ax=ax,annot=False)\n",
    "plot_correlation_map(data)"
   ]
  },
  {
   "cell_type": "markdown",
   "id": "f0666470",
   "metadata": {},
   "source": [
    "**Nous voyons que les variables comme 'G1', 'G2', 'sex', 'studytime', 'higher', 'Medu', 'Fedu', 'internet' ont une corrélation plus ou moins importante avec la variable de sortie 'G3'**\n",
    "\n",
    "\n",
    "# "
   ]
  },
  {
   "cell_type": "markdown",
   "id": "a9d651ac",
   "metadata": {},
   "source": [
    "# \n",
    "\n",
    "\n",
    "# 5. Choose the right algorithm"
   ]
  },
  {
   "cell_type": "markdown",
   "id": "7c7bc010",
   "metadata": {},
   "source": [
    "**Puisque notre problème consiste à prédire la note finale de l'élève qui est une valeur continue, nous pensons \n",
    "qu'un algorithme de regréssion serait plus adapté. Nous allons utiliser les différents algorithmes de régression que nous connaissons pour voir lequel est plus performant**"
   ]
  },
  {
   "cell_type": "markdown",
   "id": "ec419c16",
   "metadata": {},
   "source": [
    "# \n",
    "\n",
    "\n",
    "# 6. Model\n"
   ]
  },
  {
   "cell_type": "markdown",
   "id": "7c55033e",
   "metadata": {},
   "source": [
    "# \n",
    "\n",
    "\n",
    "\n",
    "## Régression Polynomiale"
   ]
  },
  {
   "cell_type": "code",
   "execution_count": 33,
   "id": "cfd410d3",
   "metadata": {},
   "outputs": [
    {
     "name": "stdout",
     "output_type": "stream",
     "text": [
      "MSE 16.56141468921924\n",
      "R squared 0.15511553557836721\n"
     ]
    }
   ],
   "source": [
    "# Nous allons d'abord extraire x et y de notre jeu de données\n",
    "x=data[['G1','G2', 'higher', 'Medu', 'Fedu', 'studytime', 'famrel', 'internet']]\n",
    "y=data[\"G3\"].values\n",
    "\n",
    "# Divisons nos données en un ensemble d'entraînement et de test où l'ensemble de test représente 35%\n",
    "x_train,x_test,y_train,y_test=train_test_split(x,y,test_size=0.35,random_state=40)\n",
    "\n",
    "\n",
    "# Construisons notre modèle de Régression Polynomiale\n",
    "lg=LinearRegression()\n",
    "poly=PolynomialFeatures(degree=3)\n",
    "\n",
    "# Entraînement de notre modèle\n",
    "x_train_fit = poly.fit_transform(x_train) \n",
    "lg.fit(x_train_fit, y_train)\n",
    "\n",
    "# Test de la performance de notre modèle\n",
    "x_test_ = poly.fit_transform(x_test)\n",
    "predicted = lg.predict(x_test_)\n",
    "\n",
    "print(\"MSE\", mean_squared_error(y_test,predicted))\n",
    "print(\"R squared\", metrics.r2_score(y_test,predicted))"
   ]
  },
  {
   "cell_type": "code",
   "execution_count": 34,
   "id": "ffe1e08c",
   "metadata": {},
   "outputs": [
    {
     "name": "stdout",
     "output_type": "stream",
     "text": [
      "MSE 10.582719248032214\n",
      "R squared 0.48389686160278\n"
     ]
    }
   ],
   "source": [
    "# Répétons le même processus mais cette fois-ci avec 20% comme taille de test et 42 comme état aléatoir\n",
    "\n",
    "x=data[['G1','G2', 'higher', 'Medu', 'Fedu', 'studytime', 'famrel', 'internet']]\n",
    "y=data[\"G3\"].values\n",
    "\n",
    "x_train,x_test,y_train,y_test=train_test_split(x,y,test_size=0.20,random_state=42)\n",
    "\n",
    "lg=LinearRegression()\n",
    "poly=PolynomialFeatures(degree=3)\n",
    "\n",
    "x_train_fit = poly.fit_transform(x_train) \n",
    "lg.fit(x_train_fit, y_train)\n",
    "\n",
    "x_test_ = poly.fit_transform(x_test)\n",
    "predicted = lg.predict(x_test_)\n",
    "\n",
    "print(\"MSE\", mean_squared_error(y_test,predicted))\n",
    "print(\"R squared\", metrics.r2_score(y_test,predicted))\n"
   ]
  },
  {
   "cell_type": "markdown",
   "id": "2c1cfadf",
   "metadata": {},
   "source": [
    "**Nous voyons qu'après avoir modifié les paramètres 'test_size' et 'random_state', le modèle de régression polynomiale devient plus performant.**"
   ]
  },
  {
   "cell_type": "markdown",
   "id": "81bb6eb8",
   "metadata": {},
   "source": [
    "## Régression Linéaire Multiple"
   ]
  },
  {
   "cell_type": "code",
   "execution_count": 35,
   "id": "7febd3ec",
   "metadata": {},
   "outputs": [
    {
     "name": "stdout",
     "output_type": "stream",
     "text": [
      "MSE 3.1812716475092695\n",
      "R squared 0.8377066788965052\n",
      "Accuracy=0.84\n"
     ]
    }
   ],
   "source": [
    "# Nous allons d'abord extraire x et y de notre jeu de données\n",
    "x=data[['G1','G2', 'higher', 'Medu', 'Fedu', 'studytime', 'famrel', 'internet']]\n",
    "y=data[\"G3\"].values\n",
    "\n",
    "# Divisons nos données en un ensemble d'entraînement et de test où l'ensemble de test représente 35%\n",
    "x_train,x_test,y_train,y_test=train_test_split(x,y,test_size=0.35,random_state=40) \n",
    "\n",
    "# Construisons notre modèle de Régression Linéaire Multiple\n",
    "model=LinearRegression() \n",
    "\n",
    "# Entraînement de notre modèle\n",
    "model.fit(x_train,y_train) \n",
    "\n",
    "# Test de la performance de notre modèle\n",
    "predicted=model.predict(x_test) \n",
    "\n",
    "print(\"MSE\", mean_squared_error(y_test,predicted))\n",
    "print(\"R squared\", metrics.r2_score(y_test,predicted))\n",
    "\n",
    "print (\"Accuracy={:.2f}\".format(model.score(x_test, y_test)))"
   ]
  },
  {
   "cell_type": "code",
   "execution_count": 36,
   "id": "da01887a",
   "metadata": {},
   "outputs": [
    {
     "name": "stdout",
     "output_type": "stream",
     "text": [
      "MSE 1.795006257852256\n",
      "R squared 0.9000960096379694\n",
      "Accuracy=0.90\n"
     ]
    }
   ],
   "source": [
    "# Répétons le même processus mais cette fois-ci avec 20% comme taille de test et 52 comme état aléatoir\n",
    "\n",
    "x=data[['G1','G2', 'higher', 'Medu', 'Fedu', 'studytime', 'famrel', 'internet']]\n",
    "y=data[\"G3\"].values\n",
    "\n",
    "x_train,x_test,y_train,y_test=train_test_split(x,y,test_size=0.20,random_state=52) \n",
    "\n",
    "model=LinearRegression() \n",
    "\n",
    "model.fit(x_train,y_train) \n",
    "\n",
    "predicted=model.predict(x_test) \n",
    "\n",
    "print(\"MSE\", mean_squared_error(y_test,predicted))\n",
    "print(\"R squared\", metrics.r2_score(y_test,predicted))\n",
    "\n",
    "print (\"Accuracy={:.2f}\".format(model.score(x_test, y_test)))"
   ]
  },
  {
   "cell_type": "markdown",
   "id": "1b4cf37d",
   "metadata": {},
   "source": [
    "**Après avoir modifié les hyperparamètres 'test_size' et 'random_state', la performance du modèle de Régression Linéaire Multiple augmente.**"
   ]
  },
  {
   "cell_type": "markdown",
   "id": "aa6eb63a",
   "metadata": {},
   "source": [
    "# \n",
    "\n",
    "\n",
    "### Après avoir appliqué ces deux modèles d'algorithme de régression, nous pouvons dire que la Régression Linéaire Multiple est la plus performante avec une précision de 90%."
   ]
  },
  {
   "cell_type": "markdown",
   "id": "1a99b66a",
   "metadata": {},
   "source": [
    "# \n",
    "\n",
    "\n",
    "# 7. Experiment\n"
   ]
  },
  {
   "cell_type": "markdown",
   "id": "3b5f025b",
   "metadata": {},
   "source": [
    "# \n",
    "\n",
    "\n",
    "Créons une fonction nommée **NoteFinale** pour expérimenter notre modèle. Avec cette fonction, nous allons prédire **la note finale** en mathématiques d'un élève qui a eu **10** comme première note, **12** comme deuxième note, qui **ne souhaite pas aller à l'université**, dont la mère a un **niveau d'étude secondaire**, dont le père a un **niveau d'étude universitaire**, qui étudie entre **5 et 10 heures** par semaine, dont la famille entretient une **très bonne relation** et qui a **l'accés à l'internet** chez lui."
   ]
  },
  {
   "cell_type": "code",
   "execution_count": 37,
   "id": "19a1226f",
   "metadata": {},
   "outputs": [],
   "source": [
    "def NoteFinale(model,G1=10, G2=12, higher=0, Medu=3, Fedu=4, studytime=3, famrel=4, internet=1):\n",
    "    X=np.array([G1,G2,higher,Medu,Fedu,studytime,famrel,internet]).reshape(1,8)\n",
    "    print(model.predict(X))"
   ]
  },
  {
   "cell_type": "code",
   "execution_count": 38,
   "id": "4ecf87b7",
   "metadata": {},
   "outputs": [
    {
     "name": "stdout",
     "output_type": "stream",
     "text": [
      "[10.55779191]\n"
     ]
    },
    {
     "name": "stderr",
     "output_type": "stream",
     "text": [
      "C:\\Users\\HP\\anaconda3\\lib\\site-packages\\sklearn\\base.py:450: UserWarning: X does not have valid feature names, but LinearRegression was fitted with feature names\n",
      "  warnings.warn(\n"
     ]
    }
   ],
   "source": [
    "NoteFinale(model)"
   ]
  },
  {
   "cell_type": "markdown",
   "id": "4100b755",
   "metadata": {},
   "source": [
    "Cet élève décrit plus haut a, selon notre modèle, **90%** de probabilité d'avoir une note finale de **10,55** sur 20 en mathématiques.\n",
    "\n",
    "Vu les conditions dans lesquelles il évolue, on aurait pu s'attendre à une note plus grande que 10,55 mais ceci est dû au fait que cet élève ne souhaite pas continuer ses études après le BAC. Cela, comme nous l'avons vu plus haut, a une forte influence sur la note finale."
   ]
  },
  {
   "cell_type": "code",
   "execution_count": null,
   "id": "6c80bf0c",
   "metadata": {},
   "outputs": [],
   "source": []
  }
 ],
 "metadata": {
  "kernelspec": {
   "display_name": "Python 3 (ipykernel)",
   "language": "python",
   "name": "python3"
  },
  "language_info": {
   "codemirror_mode": {
    "name": "ipython",
    "version": 3
   },
   "file_extension": ".py",
   "mimetype": "text/x-python",
   "name": "python",
   "nbconvert_exporter": "python",
   "pygments_lexer": "ipython3",
   "version": "3.9.12"
  }
 },
 "nbformat": 4,
 "nbformat_minor": 5
}
