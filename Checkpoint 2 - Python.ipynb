{
 "cells": [
  {
   "cell_type": "code",
   "execution_count": 1,
   "id": "d509322d",
   "metadata": {},
   "outputs": [
    {
     "name": "stdout",
     "output_type": "stream",
     "text": [
      "2016\n",
      "2051\n",
      "2086\n",
      "2121\n",
      "2156\n",
      "2191\n",
      "2226\n",
      "2261\n",
      "2296\n",
      "2331\n",
      "2366\n",
      "2401\n",
      "2436\n",
      "2471\n",
      "2506\n",
      "2541\n",
      "2576\n",
      "2611\n",
      "2646\n",
      "2681\n",
      "2716\n",
      "2751\n",
      "2786\n",
      "2821\n",
      "2856\n",
      "2891\n",
      "2926\n",
      "2961\n",
      "2996\n",
      "3031\n",
      "3066\n",
      "3101\n",
      "3136\n",
      "3171\n"
     ]
    }
   ],
   "source": [
    "nums = list(range(2000,3200))\n",
    "for x in nums:\n",
    "    if x % 7 ==0 and x % 5 ==1:\n",
    "        print(x)"
   ]
  },
  {
   "cell_type": "code",
   "execution_count": 2,
   "id": "bb00cee6",
   "metadata": {},
   "outputs": [
    {
     "name": "stdout",
     "output_type": "stream",
     "text": [
      "5\n",
      "120\n"
     ]
    }
   ],
   "source": [
    "num = int(input())\n",
    "fact = 1\n",
    "for i in range(1,num+1):\n",
    "    fact = fact*i \n",
    "print(fact)"
   ]
  },
  {
   "cell_type": "code",
   "execution_count": 1,
   "id": "56bb5855",
   "metadata": {},
   "outputs": [
    {
     "name": "stdout",
     "output_type": "stream",
     "text": [
      "8\n",
      "{1: 1, 2: 4, 3: 9, 4: 16, 5: 25, 6: 36, 7: 49, 8: 64}\n"
     ]
    }
   ],
   "source": [
    "n = int(input())\n",
    "my_dict = {i:i*i for i in range(1,n+1)\n",
    "}\n",
    "print(my_dict)"
   ]
  },
  {
   "cell_type": "code",
   "execution_count": 2,
   "id": "cb935cdf",
   "metadata": {},
   "outputs": [
    {
     "data": {
      "text/plain": [
       "'crocodie'"
      ]
     },
     "execution_count": 2,
     "metadata": {},
     "output_type": "execute_result"
    }
   ],
   "source": [
    "def missing_char(str, n):\n",
    "    return str[:n] + str[n+1:]\n",
    "missing_char('crocodile',7)"
   ]
  },
  {
   "cell_type": "code",
   "execution_count": 1,
   "id": "4f9ea5cd",
   "metadata": {},
   "outputs": [
    {
     "name": "stdout",
     "output_type": "stream",
     "text": [
      "[[0, 1], [2, 3], [4, 5]]\n"
     ]
    }
   ],
   "source": [
    "import numpy as np\n",
    "b=np.array([[0,1],[2,3],[4,5]])\n",
    "list=b.tolist()\n",
    "print(list)"
   ]
  },
  {
   "cell_type": "code",
   "execution_count": 2,
   "id": "e67c3421",
   "metadata": {},
   "outputs": [
    {
     "name": "stdout",
     "output_type": "stream",
     "text": [
      "[[ 1. -1.]\n",
      " [-1.  1.]]\n"
     ]
    }
   ],
   "source": [
    "import numpy as np\n",
    "array1=np.array([0,1,2])\n",
    "array2=np.array([2,1,0])\n",
    "covariance=np.cov(array1,array2)\n",
    "print(covariance)"
   ]
  },
  {
   "cell_type": "code",
   "execution_count": 3,
   "id": "792bafe3",
   "metadata": {},
   "outputs": [
    {
     "name": "stdout",
     "output_type": "stream",
     "text": [
      "100\n",
      "18\n"
     ]
    }
   ],
   "source": [
    "import math \n",
    "c=50 \n",
    "h=30 \n",
    "value = [] \n",
    "items=[x for x in input().split(',')] \n",
    "for d in items:\n",
    "    value.append(str(int(round(math.sqrt(2*c*float(d)/h))))) \n",
    "print(','.join(value))"
   ]
  }
 ],
 "metadata": {
  "kernelspec": {
   "display_name": "Python 3 (ipykernel)",
   "language": "python",
   "name": "python3"
  },
  "language_info": {
   "codemirror_mode": {
    "name": "ipython",
    "version": 3
   },
   "file_extension": ".py",
   "mimetype": "text/x-python",
   "name": "python",
   "nbconvert_exporter": "python",
   "pygments_lexer": "ipython3",
   "version": "3.9.7"
  }
 },
 "nbformat": 4,
 "nbformat_minor": 5
}
